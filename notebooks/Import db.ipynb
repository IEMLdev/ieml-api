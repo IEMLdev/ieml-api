{
 "cells": [
  {
   "cell_type": "code",
   "execution_count": 1,
   "metadata": {},
   "outputs": [
    {
     "data": {
      "text/plain": [
       "['/home/louis/code/ieml/project/ieml/',\n",
       " '',\n",
       " '/usr/lib/python36.zip',\n",
       " '/usr/lib/python3.6',\n",
       " '/usr/lib/python3.6/lib-dynload',\n",
       " '/home/louis/.local/lib/python3.6/site-packages',\n",
       " '/usr/local/lib/python3.6/dist-packages',\n",
       " '/home/louis/code/ieml/ieml',\n",
       " '/usr/lib/python3/dist-packages',\n",
       " '/usr/local/lib/python3.6/dist-packages/IPython/extensions',\n",
       " '/home/louis/.ipython']"
      ]
     },
     "execution_count": 1,
     "metadata": {},
     "output_type": "execute_result"
    }
   ],
   "source": [
    "import sys\n",
    "sys.path.insert(0, \"/home/louis/code/ieml/project/ieml/\")\n",
    "sys.path"
   ]
  },
  {
   "cell_type": "code",
   "execution_count": 2,
   "metadata": {},
   "outputs": [
    {
     "data": {
      "text/plain": [
       "'/home/louis/code/ieml/project/ieml/ieml/__init__.py'"
      ]
     },
     "execution_count": 2,
     "metadata": {},
     "output_type": "execute_result"
    }
   ],
   "source": [
    "import ieml\n",
    "ieml.__file__"
   ]
  },
  {
   "cell_type": "code",
   "execution_count": 9,
   "metadata": {},
   "outputs": [
    {
     "name": "stdout",
     "output_type": "stream",
     "text": [
      "f6bd68e88d924ca81a910ac6a02ea83e0e9dac95\n",
      "f6bd68e88d924ca81a910ac6a02ea83e0e9dac95\n",
      "pull 1.4861705303192139\n",
      "47d88065b224ade33a2e0366be009b08b7ce4d74\n",
      "pull 0.32320284843444824\n"
     ]
    },
    {
     "data": {
      "text/plain": [
       "'47d88065b224ade33a2e0366be009b08b7ce4d74'"
      ]
     },
     "execution_count": 9,
     "metadata": {},
     "output_type": "execute_result"
    }
   ],
   "source": [
    "from ieml.ieml_database import GitInterface\n",
    "\n",
    "git = GitInterface(origin='https://github.com/IEMLdev/ieml-language.git')\n",
    "branch, commit = git.get_version()\n",
    "git.pull()"
   ]
  },
  {
   "cell_type": "code",
   "execution_count": 10,
   "metadata": {},
   "outputs": [
    {
     "name": "stdout",
     "output_type": "stream",
     "text": [
      "list content 0.37683820724487305\n"
     ]
    },
    {
     "name": "stderr",
     "output_type": "stream",
     "text": [
      "  7%|▋         | 144/2208 [00:00<00:01, 1439.12it/s]"
     ]
    },
    {
     "name": "stdout",
     "output_type": "stream",
     "text": [
      "Get structure 0.3995206356048584\n"
     ]
    },
    {
     "name": "stderr",
     "output_type": "stream",
     "text": [
      "100%|██████████| 2208/2208 [00:01<00:00, 1569.29it/s]\n",
      "TableStructure._define_root: Multiple parent candidate for the table produced by script M:: {<ieml.dictionary.table.table.Table1D object at 0x7f8c8b4fa8d0>, <ieml.dictionary.table.table.Table1D object at 0x7f8c8b4fc320>} choosing the smaller one.\n",
      "TableStructure._define_root: Multiple parent candidate for the table produced by script O:: {<ieml.dictionary.table.table.Table1D object at 0x7f8c8b4fa8d0>, <ieml.dictionary.table.table.Table1D object at 0x7f8c8b4fc320>} choosing the smaller one.\n"
     ]
    },
    {
     "name": "stdout",
     "output_type": "stream",
     "text": [
      "Get dictionary 10.685108184814453\n"
     ]
    },
    {
     "data": {
      "text/plain": [
       "{}"
      ]
     },
     "execution_count": 10,
     "metadata": {},
     "output_type": "execute_result"
    }
   ],
   "source": [
    "import pygit2\n",
    "from ieml.ieml_database.transactions.DBTransaction import DBTransactions\n",
    "from ieml.usl.parser import IEMLParser\n",
    "from ieml.ieml_database import IEMLDatabase\n",
    "\n",
    "transaction = DBTransactions(git, pygit2.Signature(\"Louis van Beurden\", \"louis.vanbeurden@gmail.com\"))\n",
    "\n",
    "def add_word(w, fr_l, en_l):\n",
    "    transaction.set_descriptors(w, 'translations', {'fr': fr_l, 'en': en_l})\n",
    "    \n",
    "parser = IEMLParser(dictionary=IEMLDatabase(folder=git.folder).get_dictionary())\n",
    "git.status()\n",
    "        "
   ]
  },
  {
   "cell_type": "code",
   "execution_count": 13,
   "metadata": {},
   "outputs": [
    {
     "data": {
      "text/plain": [
       "'/home/louis/.cache/ieml/1.0.3/e3050257e00f171aa548e17e73fe562e'"
      ]
     },
     "execution_count": 13,
     "metadata": {},
     "output_type": "execute_result"
    }
   ],
   "source": [
    "git.folder"
   ]
  },
  {
   "cell_type": "code",
   "execution_count": 12,
   "metadata": {
    "scrolled": true
   },
   "outputs": [
    {
     "name": "stderr",
     "output_type": "stream",
     "text": [
      "\r",
      "0it [00:00, ?it/s]"
     ]
    },
    {
     "name": "stdout",
     "output_type": "stream",
     "text": [
      "[E:.b.E:T:.- E:T:. (E:.-wa.-t.o.-' E:.-'we.-S:.-'t.o.-',)(e.)(E:.b.wa.-) > E:.n.- (E:.wo.- E:S:.-d.u.-') > ! E:.n.- E:U:. () > E:.d.- (E:.wo.- E:S:.-d.u.-')(m.-S:.U:.-')]\n"
     ]
    },
    {
     "name": "stderr",
     "output_type": "stream",
     "text": [
      "\r",
      "1it [00:00,  1.39it/s]"
     ]
    },
    {
     "name": "stdout",
     "output_type": "stream",
     "text": [
      "Get descriptors 0.6049587726593018\n",
      "remove_key 0.009806156158447266\n",
      "Commit transaction 0.060860395431518555\n",
      "[E:.b.E:S:.- ! E:S:. (E:.-wa.-t.o.-' E:.-'we.-S:.-'t.o.-',)(b.-S:.A:.-'T:.-'T:.-',)]\n"
     ]
    },
    {
     "name": "stderr",
     "output_type": "stream",
     "text": [
      "\r",
      "2it [00:00,  2.01it/s]"
     ]
    },
    {
     "name": "stdout",
     "output_type": "stream",
     "text": [
      "Get descriptors 0.15943694114685059\n",
      "remove_key 0.0031125545501708984\n",
      "Commit transaction 0.05939483642578125\n",
      "[E:.b.E:B:.- ! E:A:. (E:.wo.- E:S:.-d.u.-')(b.-S:.A:.-'T:.-'T:.-',)]\n"
     ]
    },
    {
     "name": "stderr",
     "output_type": "stream",
     "text": [
      "\r",
      "3it [00:01,  2.31it/s]"
     ]
    },
    {
     "name": "stdout",
     "output_type": "stream",
     "text": [
      "Get descriptors 0.17551302909851074\n",
      "remove_key 0.009845972061157227\n",
      "Commit transaction 0.0727543830871582\n",
      "[E:.b.E:B:.- ! E:.l.- (E:.wo.- E:.-T:.f.-l.-' E:B:.-d.u.-')(b.-S:.A:.-'T:.-'T:.-',)]\n"
     ]
    },
    {
     "name": "stderr",
     "output_type": "stream",
     "text": [
      "\r",
      "4it [00:01,  2.51it/s]"
     ]
    },
    {
     "name": "stdout",
     "output_type": "stream",
     "text": [
      "Get descriptors 0.15999245643615723\n",
      "remove_key 0.00892329216003418\n",
      "Commit transaction 0.06909012794494629\n",
      "[E:.b.E:B:.- ! E:.f.- (E:.wo.- E:S:.-d.u.-')(b.-S:.A:.-'T:.-'T:.-',)]\n"
     ]
    },
    {
     "name": "stderr",
     "output_type": "stream",
     "text": [
      "\r",
      "5it [00:01,  2.66it/s]"
     ]
    },
    {
     "name": "stdout",
     "output_type": "stream",
     "text": [
      "Get descriptors 0.16999387741088867\n",
      "remove_key 0.007737874984741211\n",
      "Commit transaction 0.06041526794433594\n",
      "[E:.b.E:B:.- ! E:.s.- (E:.wo.- E:S:.-d.u.-')(b.-S:.A:.-'T:.-'T:.-',)]\n"
     ]
    },
    {
     "name": "stderr",
     "output_type": "stream",
     "text": [
      "\r",
      "6it [00:02,  2.80it/s]"
     ]
    },
    {
     "name": "stdout",
     "output_type": "stream",
     "text": [
      "Get descriptors 0.15619277954101562\n",
      "remove_key 0.008584976196289062\n",
      "Commit transaction 0.059203386306762695\n",
      "[E:.b.E:T:.- ! E:U:. ()]\n"
     ]
    },
    {
     "name": "stderr",
     "output_type": "stream",
     "text": [
      "\r",
      "7it [00:02,  2.88it/s]"
     ]
    },
    {
     "name": "stdout",
     "output_type": "stream",
     "text": [
      "Get descriptors 0.17348241806030273\n",
      "remove_key 0.00760960578918457\n",
      "Commit transaction 0.06073713302612305\n",
      "[E:.b.E:S:.- ! E:S:. (E:.-wa.-t.o.-' E:.-'we.-S:.-'t.o.-',)(E:S:.h.-)]\n"
     ]
    },
    {
     "name": "stderr",
     "output_type": "stream",
     "text": [
      "\r",
      "8it [00:02,  2.96it/s]"
     ]
    },
    {
     "name": "stdout",
     "output_type": "stream",
     "text": [
      "Get descriptors 0.16727447509765625\n",
      "remove_key 0.00844573974609375\n",
      "Commit transaction 0.05917239189147949\n",
      "[E:.b.E:S:.- ! E:T:. (E:.-wa.-t.o.-' E:.-'we.-S:.-'t.o.-',)(E:S:.h.-)(E:.b.i.-)]\n"
     ]
    },
    {
     "name": "stderr",
     "output_type": "stream",
     "text": [
      "\r",
      "9it [00:02,  3.02it/s]"
     ]
    },
    {
     "name": "stdout",
     "output_type": "stream",
     "text": [
      "Get descriptors 0.16083884239196777\n",
      "remove_key 0.008428573608398438\n",
      "Commit transaction 0.05897688865661621\n",
      "[E:.b.E:S:.- ! E:S:. (E:.-wa.-t.o.-' E:.-'we.-S:.-'t.o.-',)(s.we.-)]\n"
     ]
    },
    {
     "name": "stderr",
     "output_type": "stream",
     "text": [
      "\r",
      "10it [00:03,  3.07it/s]"
     ]
    },
    {
     "name": "stdout",
     "output_type": "stream",
     "text": [
      "Get descriptors 0.15880632400512695\n",
      "remove_key 0.009275197982788086\n",
      "Commit transaction 0.06010150909423828\n",
      "[E:.b.E:S:.- ! E:S:. (E:.-wa.-t.o.-' E:.-'we.-S:.-'t.o.-',)(s.c.-)]\n"
     ]
    },
    {
     "name": "stderr",
     "output_type": "stream",
     "text": [
      "\r",
      "11it [00:03,  3.11it/s]"
     ]
    },
    {
     "name": "stdout",
     "output_type": "stream",
     "text": [
      "Get descriptors 0.16384220123291016\n",
      "remove_key 0.008594274520874023\n",
      "Commit transaction 0.06196117401123047\n",
      "[E:.b.E:S:.- ! E:S:. (E:.-wa.-t.o.-' E:.-'we.-S:.-'t.o.-',)(b.-S:.A:.-')]\n"
     ]
    },
    {
     "name": "stderr",
     "output_type": "stream",
     "text": [
      "\r",
      "12it [00:03,  3.15it/s]"
     ]
    },
    {
     "name": "stdout",
     "output_type": "stream",
     "text": [
      "Get descriptors 0.1655104160308838\n",
      "remove_key 0.008651256561279297\n",
      "Commit transaction 0.05969738960266113\n",
      "[E:.b.E:S:.- ! E:T:. (E:.-wa.-t.o.-' E:.-'we.-S:.-'t.o.-',)(b.-S:.A:.-')]\n"
     ]
    },
    {
     "name": "stderr",
     "output_type": "stream",
     "text": [
      "\r",
      "13it [00:04,  3.18it/s]"
     ]
    },
    {
     "name": "stdout",
     "output_type": "stream",
     "text": [
      "Get descriptors 0.15525531768798828\n",
      "remove_key 0.008198738098144531\n",
      "Commit transaction 0.06172823905944824\n",
      "[E:.b.E:S:.- ! E:S:. (E:.-wa.-t.o.-' E:.-'we.-S:.-'t.o.-',)(b.-T:.A:.-')]\n"
     ]
    },
    {
     "name": "stderr",
     "output_type": "stream",
     "text": [
      "\r",
      "14it [00:04,  3.19it/s]"
     ]
    },
    {
     "name": "stdout",
     "output_type": "stream",
     "text": [
      "Get descriptors 0.1781320571899414\n",
      "remove_key 0.003509521484375\n",
      "Commit transaction 0.07015514373779297\n",
      "[E:.b.E:S:.- ! E:T:. (E:.-wa.-t.o.-' E:.-'we.-S:.-'t.o.-',)(b.-T:.A:.-')]\n"
     ]
    },
    {
     "name": "stderr",
     "output_type": "stream",
     "text": [
      "\r",
      "15it [00:04,  3.20it/s]"
     ]
    },
    {
     "name": "stdout",
     "output_type": "stream",
     "text": [
      "Get descriptors 0.18077492713928223\n",
      "remove_key 0.013464927673339844\n",
      "Commit transaction 0.060163021087646484\n",
      "[E:.b.E:S:.- ! E:T:. (E:.-wa.-t.o.-' E:.-'we.-S:.-'t.o.-',)(t.e.-f.u.-')]\n"
     ]
    },
    {
     "name": "stderr",
     "output_type": "stream",
     "text": [
      "\r",
      "16it [00:05,  3.20it/s]"
     ]
    },
    {
     "name": "stdout",
     "output_type": "stream",
     "text": [
      "Get descriptors 0.17406201362609863\n",
      "remove_key 0.0029647350311279297\n",
      "Commit transaction 0.07334399223327637\n",
      "[E:.b.E:S:.- ! E:S:. (E:.-wa.-t.o.-' E:.-'we.-S:.-'t.o.-',)(l.-T:.U:.-',n.-T:.A:.-',t.o.-f.o.-',_)]\n"
     ]
    },
    {
     "name": "stderr",
     "output_type": "stream",
     "text": [
      "\r",
      "17it [00:05,  3.21it/s]"
     ]
    },
    {
     "name": "stdout",
     "output_type": "stream",
     "text": [
      "Get descriptors 0.18069934844970703\n",
      "remove_key 0.0030355453491210938\n",
      "Commit transaction 0.06119227409362793\n",
      "[E:.b.E:S:.- ! E:T:. (E:.-wo.-t.o.-' E:.-'we.-S:.-'t.o.-',)(s.a.-d.a.-')]\n"
     ]
    },
    {
     "name": "stderr",
     "output_type": "stream",
     "text": [
      "\r",
      "18it [00:05,  3.22it/s]"
     ]
    },
    {
     "name": "stdout",
     "output_type": "stream",
     "text": [
      "Get descriptors 0.17121124267578125\n",
      "remove_key 0.003191709518432617\n",
      "Commit transaction 0.06964850425720215\n",
      "[E:.b.E:S:.- ! E:T:. (E:.-wa.-t.o.-' E:.-'we.-S:.-'t.o.-',)(s.a.-d.a.-')]\n"
     ]
    },
    {
     "name": "stderr",
     "output_type": "stream",
     "text": [
      "\r",
      "19it [00:05,  3.22it/s]"
     ]
    },
    {
     "name": "stdout",
     "output_type": "stream",
     "text": [
      "Get descriptors 0.1857624053955078\n",
      "remove_key 0.00848698616027832\n",
      "Commit transaction 0.05938720703125\n",
      "[E:.b.E:S:.- ! E:T:. (E:.-wa.-t.o.-' E:.-'we.-S:.-'t.o.-',)(t.)]\n"
     ]
    },
    {
     "name": "stderr",
     "output_type": "stream",
     "text": [
      "\r",
      "20it [00:06,  3.23it/s]"
     ]
    },
    {
     "name": "stdout",
     "output_type": "stream",
     "text": [
      "Get descriptors 0.1619575023651123\n",
      "remove_key 0.003725767135620117\n",
      "Commit transaction 0.06712198257446289\n",
      "[E:.b.E:S:.- ! E:T:. (E:.-wo.-t.o.-' E:.-'we.-S:.-'t.o.-',)(t.)]\n"
     ]
    },
    {
     "name": "stderr",
     "output_type": "stream",
     "text": [
      "\r",
      "21it [00:06,  3.23it/s]"
     ]
    },
    {
     "name": "stdout",
     "output_type": "stream",
     "text": [
      "Get descriptors 0.1865851879119873\n",
      "remove_key 0.009953498840332031\n",
      "Commit transaction 0.07086563110351562\n",
      "[E:.b.E:S:.- ! E:T:. (E:.-wa.-t.o.-' E:.-'we.-S:.-'t.o.-',)(l.i.-n.i.-')]\n"
     ]
    },
    {
     "name": "stderr",
     "output_type": "stream",
     "text": [
      "\r",
      "22it [00:06,  3.22it/s]"
     ]
    },
    {
     "name": "stdout",
     "output_type": "stream",
     "text": [
      "Get descriptors 0.2043311595916748\n",
      "remove_key 0.009755134582519531\n",
      "Commit transaction 0.06935310363769531\n",
      "[E:.b.E:B:.- ! E:A:. (E:.wo.- E:S:.-d.u.-')(wa.)]\n"
     ]
    },
    {
     "name": "stderr",
     "output_type": "stream",
     "text": [
      "\r",
      "23it [00:07,  3.22it/s]"
     ]
    },
    {
     "name": "stdout",
     "output_type": "stream",
     "text": [
      "Get descriptors 0.18539786338806152\n",
      "remove_key 0.00331878662109375\n",
      "Commit transaction 0.06358194351196289\n",
      "[E:.b.E:B:.- ! E:A:. (E:.wo.- E:S:.-d.u.-')(a.)]\n"
     ]
    },
    {
     "name": "stderr",
     "output_type": "stream",
     "text": [
      "\r",
      "24it [00:07,  3.22it/s]"
     ]
    },
    {
     "name": "stdout",
     "output_type": "stream",
     "text": [
      "Get descriptors 0.18663883209228516\n",
      "remove_key 0.003924369812011719\n",
      "Commit transaction 0.06962752342224121\n",
      "[E:.b.E:B:.- ! E:A:. (E:.wo.- E:S:.-d.u.-')(E:S:T:.)]\n"
     ]
    },
    {
     "name": "stderr",
     "output_type": "stream",
     "text": [
      "\r",
      "25it [00:07,  3.22it/s]"
     ]
    },
    {
     "name": "stdout",
     "output_type": "stream",
     "text": [
      "Get descriptors 0.17303252220153809\n",
      "remove_key 0.003284454345703125\n",
      "Commit transaction 0.06405401229858398\n",
      "[E:.b.E:B:.- ! E:A:. (E:.wo.- E:S:.-d.u.-')(E:.A:.j.-)]\n"
     ]
    },
    {
     "name": "stderr",
     "output_type": "stream",
     "text": [
      "\r",
      "26it [00:08,  3.22it/s]"
     ]
    },
    {
     "name": "stdout",
     "output_type": "stream",
     "text": [
      "Get descriptors 0.17100954055786133\n",
      "remove_key 0.00409245491027832\n",
      "Commit transaction 0.06974959373474121\n",
      "[E:.b.E:B:.- ! E:.f.- (E:.wo.- E:S:.-d.u.-')(t.e.-f.u.-')]\n"
     ]
    },
    {
     "name": "stderr",
     "output_type": "stream",
     "text": [
      "\r",
      "27it [00:08,  3.23it/s]"
     ]
    },
    {
     "name": "stdout",
     "output_type": "stream",
     "text": [
      "Get descriptors 0.16952753067016602\n",
      "remove_key 0.008620977401733398\n",
      "Commit transaction 0.06568551063537598\n",
      "[E:.b.E:B:.- ! E:.f.- (E:.wo.- E:S:.-d.u.-')(t.o.-k.o.-')]\n"
     ]
    },
    {
     "name": "stderr",
     "output_type": "stream",
     "text": [
      "\r",
      "28it [00:08,  3.24it/s]"
     ]
    },
    {
     "name": "stdout",
     "output_type": "stream",
     "text": [
      "Get descriptors 0.1610088348388672\n",
      "remove_key 0.011270523071289062\n",
      "Commit transaction 0.06499242782592773\n",
      "[E:.b.E:B:.- ! E:.f.- (E:.wo.- E:S:.-d.u.-')(k.o.-t.o.-')]\n"
     ]
    },
    {
     "name": "stderr",
     "output_type": "stream",
     "text": [
      "\r",
      "29it [00:08,  3.24it/s]"
     ]
    },
    {
     "name": "stdout",
     "output_type": "stream",
     "text": [
      "Get descriptors 0.16210603713989258\n",
      "remove_key 0.010563850402832031\n",
      "Commit transaction 0.06881237030029297\n",
      "[E:.b.E:B:.- ! E:.f.- (E:.wo.- E:S:.-d.u.-')(wu.wu.t.-)]\n"
     ]
    },
    {
     "name": "stderr",
     "output_type": "stream",
     "text": [
      "\r",
      "30it [00:09,  3.24it/s]"
     ]
    },
    {
     "name": "stdout",
     "output_type": "stream",
     "text": [
      "Get descriptors 0.1726830005645752\n",
      "remove_key 0.009303808212280273\n",
      "Commit transaction 0.06965112686157227\n",
      "[E:.b.E:T:.- ! E:U:. ()]\n"
     ]
    },
    {
     "name": "stderr",
     "output_type": "stream",
     "text": [
      "\r",
      "31it [00:09,  3.24it/s]"
     ]
    },
    {
     "name": "stdout",
     "output_type": "stream",
     "text": [
      "Get descriptors 0.1897745132446289\n",
      "remove_key 0.011520862579345703\n",
      "remove_key 0.0049936771392822266\n",
      "remove_key 0.019402742385864258\n",
      "Commit transaction 0.06272435188293457\n",
      "[E:.b.E:S:.- ! E:T:. (E:.-wa.-t.o.-' E:.-'we.-S:.-'t.o.-',)(a.T:.-) > E:.f.- (E:.wo.- E:S:.-d.u.-')(E:T:.-t.u.-')]\n"
     ]
    },
    {
     "name": "stderr",
     "output_type": "stream",
     "text": [
      "\r",
      "32it [00:09,  3.25it/s]"
     ]
    },
    {
     "name": "stdout",
     "output_type": "stream",
     "text": [
      "Get descriptors 0.16005802154541016\n",
      "remove_key 0.009078025817871094\n",
      "Commit transaction 0.059599876403808594\n",
      "[E:.b.E:S:.- ! E:T:. (E:.-wa.-t.o.-' E:.-'wu.-S:.-'t.o.-',)(wu.f.B:.-) > E:.d.- (E:.wo.- E:S:.-d.u.-')(f.-S:.A:.-')]\n"
     ]
    },
    {
     "name": "stderr",
     "output_type": "stream",
     "text": [
      "\r",
      "33it [00:10,  3.26it/s]"
     ]
    },
    {
     "name": "stdout",
     "output_type": "stream",
     "text": [
      "Get descriptors 0.15351295471191406\n",
      "remove_key 0.0037424564361572266\n",
      "Commit transaction 0.06177043914794922\n",
      "[E:.b.E:B:.- E:B:. (E:.-wa.-t.o.-' E:.-'we.-S:.-'t.o.-',)(e.i.-) > ! E:.n.- (E:.wo.- E:S:.-d.u.-')]\n"
     ]
    },
    {
     "name": "stderr",
     "output_type": "stream",
     "text": [
      "\r",
      "34it [00:10,  3.26it/s]"
     ]
    },
    {
     "name": "stdout",
     "output_type": "stream",
     "text": [
      "Get descriptors 0.1744086742401123\n",
      "remove_key 0.009702205657958984\n",
      "Commit transaction 0.0646505355834961\n",
      "[E:.b.E:B:.- E:B:. (E:.-wa.-t.o.-' E:.-'we.-S:.-'t.o.-',)(e.i.-) > ! E:.k.- (E:.wo.- E:S:.-d.u.-')]\n"
     ]
    },
    {
     "name": "stderr",
     "output_type": "stream",
     "text": [
      "\r",
      "35it [00:10,  3.27it/s]"
     ]
    },
    {
     "name": "stdout",
     "output_type": "stream",
     "text": [
      "Get descriptors 0.17478322982788086\n",
      "remove_key 0.003338336944580078\n",
      "Commit transaction 0.06653261184692383\n",
      "[E:.b.E:B:.- E:B:. (E:.-wa.-t.o.-' E:.-'we.-S:.-'t.o.-',)(i.k.-) > ! E:.n.- (E:.wo.- E:.-n.S:.-' E:S:.-d.u.-')]\n"
     ]
    },
    {
     "name": "stderr",
     "output_type": "stream",
     "text": [
      "\r",
      "36it [00:11,  3.25it/s]"
     ]
    },
    {
     "name": "stdout",
     "output_type": "stream",
     "text": [
      "Get descriptors 0.2016010284423828\n",
      "remove_key 0.003801584243774414\n",
      "Commit transaction 0.08804917335510254\n",
      "[E:.b.E:B:.- E:B:. (E:.-wa.-t.o.-' E:.-'we.-S:.-'t.o.-',)(i.k.-) > ! E:.n.- (E:.wo.- E:.-n.S:.-' E:S:.-d.u.-')(t.a.-b.a.-f.o.-')]\n"
     ]
    },
    {
     "name": "stderr",
     "output_type": "stream",
     "text": [
      "\r",
      "37it [00:11,  3.25it/s]"
     ]
    },
    {
     "name": "stdout",
     "output_type": "stream",
     "text": [
      "Get descriptors 0.16262149810791016\n",
      "remove_key 0.005661487579345703\n",
      "Commit transaction 0.06312298774719238\n",
      "[E:.b.E:B:.- E:B:. (E:.-wa.-t.o.-' E:.-'we.-S:.-'t.o.-',)(i.k.-) > ! E:.k.- (E:.wo.- E:.-n.S:.-' E:S:.-d.u.-')]\n"
     ]
    },
    {
     "name": "stderr",
     "output_type": "stream",
     "text": [
      "\r",
      "38it [00:11,  3.26it/s]"
     ]
    },
    {
     "name": "stdout",
     "output_type": "stream",
     "text": [
      "Get descriptors 0.1618821620941162\n",
      "remove_key 0.009799003601074219\n",
      "Commit transaction 0.06258106231689453\n",
      "[E:.b.E:B:.- E:B:. (E:.-wa.-t.o.-' E:.-'we.-S:.-'t.o.-',)(i.k.-) > ! E:.k.- (E:.wo.- E:.-n.S:.-' E:S:.-d.u.-')(b.a.-b.a.-f.o.-')]\n"
     ]
    },
    {
     "name": "stderr",
     "output_type": "stream",
     "text": [
      "\r",
      "39it [00:11,  3.27it/s]"
     ]
    },
    {
     "name": "stdout",
     "output_type": "stream",
     "text": [
      "Get descriptors 0.15054869651794434\n",
      "remove_key 0.00957942008972168\n",
      "Commit transaction 0.05922102928161621\n",
      "[E:.b.E:B:.- E:B:. (E:.-wa.-t.o.-' E:.-'we.-S:.-'t.o.-',)(i.k.-) > ! E:.d.- (E:.wo.- E:S:.-d.u.-')]\n"
     ]
    },
    {
     "name": "stderr",
     "output_type": "stream",
     "text": [
      "\r",
      "40it [00:12,  3.28it/s]"
     ]
    },
    {
     "name": "stdout",
     "output_type": "stream",
     "text": [
      "Get descriptors 0.15977740287780762\n",
      "remove_key 0.008829832077026367\n",
      "Commit transaction 0.059674739837646484\n",
      "[E:.b.E:B:.- E:B:. (E:.-wa.-t.o.-' E:.-'we.-S:.-'t.o.-',)(i.k.-) > ! E:.d.- (E:.wo.- E:.-n.E:U:.-' E:S:.-d.u.-')(t.e.-n.u.-')]\n"
     ]
    },
    {
     "name": "stderr",
     "output_type": "stream",
     "text": [
      "\r",
      "41it [00:12,  3.29it/s]"
     ]
    },
    {
     "name": "stdout",
     "output_type": "stream",
     "text": [
      "Get descriptors 0.1551368236541748\n",
      "remove_key 0.0036323070526123047\n",
      "Commit transaction 0.06271767616271973\n",
      "[E:.b.E:B:.- E:B:. (E:.-wa.-t.o.-' E:.-'we.-S:.-'t.o.-',)(i.k.-) > E:.n.- (E:.wo.- E:.-n.S:.-' E:S:.-d.u.-')(t.a.-b.a.-f.o.-') > ! E:.d.- (E:.wo.- E:.-n.E:U:.-' E:S:.-d.u.-')(t.e.-n.u.-') > E:.k.- (E:.wo.- E:.-n.S:.-' E:S:.-d.u.-')(b.a.-b.a.-f.o.-')]\n"
     ]
    },
    {
     "name": "stderr",
     "output_type": "stream",
     "text": [
      "\r",
      "42it [00:12,  3.28it/s]"
     ]
    },
    {
     "name": "stdout",
     "output_type": "stream",
     "text": [
      "Get descriptors 0.17299270629882812\n",
      "remove_key 0.00585484504699707\n",
      "Commit transaction 0.07234668731689453\n",
      "[E:.b.E:T:.- E:A:. (E:.wo.- E:.-n.S:.-' E:S:.-d.u.-')(b.a.- b.o.-n.o.-s.u.-' f.a.-b.a.-f.o.-') > E:A:. E:A:. (E:.wo.- E:S:.-d.u.-')(n.-S:.U:.-'B:.-'B:.-',B:.-',B:.-',_ n.-S:.U:.-'B:.-'B:.-',T:.-',S:.-',_) > ! E:A:. E:U:. ()]\n"
     ]
    },
    {
     "name": "stderr",
     "output_type": "stream",
     "text": [
      "\r",
      "43it [00:13,  3.28it/s]"
     ]
    },
    {
     "name": "stdout",
     "output_type": "stream",
     "text": [
      "Get descriptors 0.1787569522857666\n",
      "remove_key 0.010322809219360352\n",
      "Commit transaction 0.06480121612548828\n",
      "[E:.b.E:B:.- ! E:A:. (E:.wo.- E:S:.-d.u.-')(b.-S:.A:.-'S:.-'S:.-',) > E:A:. E:A:. (E:.wo.- E:S:.-d.u.-')(k.a.-k.a.-')]\n"
     ]
    },
    {
     "name": "stderr",
     "output_type": "stream",
     "text": [
      "\r",
      "44it [00:13,  3.29it/s]"
     ]
    },
    {
     "name": "stdout",
     "output_type": "stream",
     "text": [
      "Get descriptors 0.17385387420654297\n",
      "remove_key 0.0036554336547851562\n",
      "Commit transaction 0.06197857856750488\n",
      "[E:.b.E:T:.- ! E:U:. (E:A:T:.)(t.o.-p.-')]\n"
     ]
    },
    {
     "name": "stderr",
     "output_type": "stream",
     "text": [
      "\r",
      "45it [00:13,  3.29it/s]"
     ]
    },
    {
     "name": "stdout",
     "output_type": "stream",
     "text": [
      "Get descriptors 0.15884613990783691\n",
      "remove_key 0.0034449100494384766\n",
      "Commit transaction 0.07423543930053711\n",
      "[E:.b.E:S:.- ! E:T:. (E:.-wa.-t.o.-' E:.-'wu.-S:.-'t.o.-',)(i.S:.-)]\n"
     ]
    },
    {
     "name": "stderr",
     "output_type": "stream",
     "text": [
      "\r",
      "46it [00:13,  3.30it/s]"
     ]
    },
    {
     "name": "stdout",
     "output_type": "stream",
     "text": [
      "Get descriptors 0.16014790534973145\n",
      "remove_key 0.0032205581665039062\n",
      "Commit transaction 0.06838274002075195\n",
      "[E:.b.E:S:.- ! E:S:. (E:.-wa.-t.o.-' E:.-'wu.-S:.-'t.o.-',)(i.S:.-)]\n"
     ]
    },
    {
     "name": "stderr",
     "output_type": "stream",
     "text": [
      "\r",
      "47it [00:14,  3.30it/s]"
     ]
    },
    {
     "name": "stdout",
     "output_type": "stream",
     "text": [
      "Get descriptors 0.16019558906555176\n",
      "remove_key 0.00407719612121582\n",
      "Commit transaction 0.06809401512145996\n",
      "[E:.b.E:S:.- ! E:T:. (E:.-wa.-t.o.-' E:.-'wu.-S:.-'t.o.-',)(a.T:.-)]\n"
     ]
    },
    {
     "name": "stderr",
     "output_type": "stream",
     "text": [
      "\r",
      "48it [00:14,  3.31it/s]"
     ]
    },
    {
     "name": "stdout",
     "output_type": "stream",
     "text": [
      "Get descriptors 0.15952229499816895\n",
      "remove_key 0.003427743911743164\n",
      "Commit transaction 0.06299686431884766\n",
      "[E:.b.E:S:.- ! E:B:. (E:.-wa.-t.o.-' E:.-'wu.-S:.-'t.o.-',)(a.T:.-)(E:.b.i.-)]\n"
     ]
    },
    {
     "name": "stderr",
     "output_type": "stream",
     "text": [
      "\r",
      "49it [00:14,  3.31it/s]"
     ]
    },
    {
     "name": "stdout",
     "output_type": "stream",
     "text": [
      "Get descriptors 0.15674066543579102\n",
      "remove_key 0.004347324371337891\n",
      "Commit transaction 0.06210184097290039\n",
      "[E:.b.E:B:.- E:T:. (E:.-wa.-t.o.-' E:.-'wu.-S:.-'t.o.-',)(a.T:.-) > ! E:.l.- (E:.wo.- E:S:.-d.u.-')]\n"
     ]
    },
    {
     "name": "stderr",
     "output_type": "stream",
     "text": [
      "\r",
      "50it [00:15,  3.32it/s]"
     ]
    },
    {
     "name": "stdout",
     "output_type": "stream",
     "text": [
      "Get descriptors 0.16084623336791992\n",
      "remove_key 0.011009931564331055\n",
      "Commit transaction 0.06565046310424805\n",
      "[E:.b.E:B:.- E:S:. (E:.-wa.-t.o.-' E:.-'wu.-S:.-'t.o.-',)(u.S:.-) > ! E:.s.- (E:.wa.- E:S:.-d.u.-')(E:T:.x.-)]\n"
     ]
    },
    {
     "name": "stderr",
     "output_type": "stream",
     "text": [
      "\r",
      "51it [00:15,  3.32it/s]"
     ]
    },
    {
     "name": "stdout",
     "output_type": "stream",
     "text": [
      "Get descriptors 0.15593934059143066\n",
      "remove_key 0.01904010772705078\n",
      "Commit transaction 0.06537842750549316\n",
      "[E:.b.E:B:.- ! E:.s.- (E:.wo.- E:S:.-d.u.-')(E:.A:.x.- s.e.-s.u.-')]\n"
     ]
    },
    {
     "name": "stderr",
     "output_type": "stream",
     "text": [
      "\r",
      "52it [00:15,  3.32it/s]"
     ]
    },
    {
     "name": "stdout",
     "output_type": "stream",
     "text": [
      "Get descriptors 0.1639256477355957\n",
      "remove_key 0.009370088577270508\n",
      "Commit transaction 0.06643390655517578\n",
      "[E:.b.E:B:.- ! E:.s.- (E:.wo.- E:S:.-d.u.-')(E:T:.x.- s.e.-s.u.-')]\n"
     ]
    },
    {
     "name": "stderr",
     "output_type": "stream",
     "text": [
      "\r",
      "53it [00:15,  3.32it/s]"
     ]
    },
    {
     "name": "stdout",
     "output_type": "stream",
     "text": [
      "Get descriptors 0.16002821922302246\n",
      "remove_key 0.01606917381286621\n",
      "Commit transaction 0.07085371017456055\n",
      "[E:.b.E:S:.- ! E:T:. (E:.-wa.-t.o.-' E:.-'wu.-S:.-'t.o.-',)(a.B:.-) > E:.f.- (E:A:S:. E:.wo.- E:S:.-d.u.-')]\n"
     ]
    },
    {
     "name": "stderr",
     "output_type": "stream",
     "text": [
      "\r",
      "54it [00:16,  3.30it/s]"
     ]
    },
    {
     "name": "stdout",
     "output_type": "stream",
     "text": [
      "Get descriptors 0.2192697525024414\n",
      "remove_key 0.018099308013916016\n",
      "Commit transaction 0.1000053882598877\n",
      "[E:.b.E:B:.- ! E:A:. (E:.wo.- E:S:.-d.u.-')(k.i.-l.i.-') > E:A:. E:U:. ()]"
     ]
    },
    {
     "name": "stderr",
     "output_type": "stream",
     "text": [
      "\r",
      "55it [00:16,  3.29it/s]"
     ]
    },
    {
     "name": "stdout",
     "output_type": "stream",
     "text": [
      "\n",
      "Get descriptors 0.1730058193206787\n",
      "remove_key 0.011600017547607422\n",
      "Commit transaction 0.11338067054748535\n",
      "[E:.b.E:T:.- ! E:U:. (E:A:T:.)(p.E:A:T:.-)]\n",
      "Get descriptors 0.22146177291870117\n",
      "remove_key 0.01885986328125\n"
     ]
    },
    {
     "name": "stderr",
     "output_type": "stream",
     "text": [
      "\r",
      "56it [00:17,  3.26it/s]"
     ]
    },
    {
     "name": "stdout",
     "output_type": "stream",
     "text": [
      "Commit transaction 0.12671637535095215\n",
      "[E:.b.E:B:.- ! E:A:. (E:.wo.- E:S:.-d.u.-')(m.-T:.U:.-') > E:A:. E:U:. (E:B:.-d.u.-')(p.E:A:T:.-)]\n"
     ]
    },
    {
     "name": "stderr",
     "output_type": "stream",
     "text": [
      "\r",
      "57it [00:17,  3.24it/s]"
     ]
    },
    {
     "name": "stdout",
     "output_type": "stream",
     "text": [
      "Get descriptors 0.2397143840789795\n",
      "remove_key 0.00745081901550293\n",
      "Commit transaction 0.07716894149780273\n",
      "[E:.b.E:T:.- ! E:U:. (E:A:T:. E:B:.-d.u.-')(m.-T:.U:.-')]\n"
     ]
    },
    {
     "name": "stderr",
     "output_type": "stream",
     "text": [
      "\r",
      "58it [00:17,  3.23it/s]"
     ]
    },
    {
     "name": "stdout",
     "output_type": "stream",
     "text": [
      "Get descriptors 0.2064657211303711\n",
      "remove_key 0.014451980590820312\n",
      "Commit transaction 0.08692574501037598\n",
      "[E:.b.E:B:.- ! E:A:. (E:.wo.- E:S:.-d.u.-')(m.-B:.A:.-') > E:A:. E:A:. (E:.wo.- E:B:.-d.u.-')(p.E:A:T:.-)]\n"
     ]
    },
    {
     "name": "stderr",
     "output_type": "stream",
     "text": [
      "\r",
      "59it [00:18,  3.22it/s]"
     ]
    },
    {
     "name": "stdout",
     "output_type": "stream",
     "text": [
      "Get descriptors 0.24865412712097168\n",
      "remove_key 0.010175943374633789\n",
      "Commit transaction 0.07675933837890625\n",
      "[E:.b.E:B:.- ! E:A:. (E:.wo.- E:S:.-d.u.-')(l.-y.-'E:U:.t.-l.-'E:U:.t.-l.-',) > E:A:. E:U:. ()]\n"
     ]
    },
    {
     "name": "stderr",
     "output_type": "stream",
     "text": [
      "\r",
      "60it [00:18,  3.21it/s]"
     ]
    },
    {
     "name": "stdout",
     "output_type": "stream",
     "text": [
      "Get descriptors 0.18817353248596191\n",
      "remove_key 0.011406660079956055\n",
      "Commit transaction 0.09140968322753906\n",
      "[E:.b.E:B:.- ! E:A:. (E:.wo.- E:S:.-d.u.-')(f.i.-b.i.-') > E:A:. E:U:. ()]\n"
     ]
    },
    {
     "name": "stderr",
     "output_type": "stream",
     "text": [
      "\r",
      "61it [00:19,  3.19it/s]"
     ]
    },
    {
     "name": "stdout",
     "output_type": "stream",
     "text": [
      "Get descriptors 0.2402961254119873\n",
      "remove_key 0.01250004768371582\n",
      "Commit transaction 0.08072352409362793\n",
      "[E:.b.E:T:.- ! E:U:. (E:U:S:.)(f.i.-b.i.-')]\n"
     ]
    },
    {
     "name": "stderr",
     "output_type": "stream",
     "text": [
      "\r",
      "62it [00:19,  3.18it/s]"
     ]
    },
    {
     "name": "stdout",
     "output_type": "stream",
     "text": [
      "Get descriptors 0.20220398902893066\n",
      "remove_key 0.011237382888793945\n",
      "Commit transaction 0.08770918846130371\n",
      "[E:.b.E:S:.- ! E:S:. (E:.-wa.-t.o.-' E:.-'wu.-S:.-'t.o.-',)(u.A:.-) > E:.l.- (E:.wo.- E:.-A:.s.-l.-' E:S:.-d.u.-')]\n"
     ]
    },
    {
     "name": "stderr",
     "output_type": "stream",
     "text": [
      "\r",
      "63it [00:19,  3.19it/s]"
     ]
    },
    {
     "name": "stdout",
     "output_type": "stream",
     "text": [
      "Get descriptors 0.16678953170776367\n",
      "remove_key 0.010861635208129883\n",
      "Commit transaction 0.06300759315490723\n",
      "[E:.b.E:S:.- ! E:S:. (E:.-wa.-t.o.-' E:.-'wu.-S:.-'t.o.-',)(u.A:.-) > E:.l.- (E:.wo.- E:.-A:.d.-l.-' E:S:.-d.u.-')]\n"
     ]
    },
    {
     "name": "stderr",
     "output_type": "stream",
     "text": [
      "\r",
      "64it [00:20,  3.18it/s]"
     ]
    },
    {
     "name": "stdout",
     "output_type": "stream",
     "text": [
      "Get descriptors 0.1644139289855957\n",
      "remove_key 0.018756866455078125\n",
      "Commit transaction 0.09113144874572754\n"
     ]
    },
    {
     "name": "stderr",
     "output_type": "stream",
     "text": [
      "\r",
      "65it [00:20,  3.18it/s]"
     ]
    },
    {
     "name": "stdout",
     "output_type": "stream",
     "text": [
      "[E:.b.E:S:.- ! E:S:. (E:.-wa.-t.o.-' E:.-'wu.-S:.-'t.o.-',)(u.A:.-) > E:.l.- (E:.wo.- E:.-U:.s.-l.-' E:S:.-d.u.-')]\n",
      "Get descriptors 0.19277429580688477\n",
      "remove_key 0.004744052886962891\n",
      "Commit transaction 0.07450413703918457\n",
      "[E:.b.E:S:.- ! E:S:. (E:.-wa.-t.o.-' E:.-'wu.-S:.-'t.o.-',)(u.A:.-) > E:.l.- (E:.wo.- E:.-U:.d.-l.-' E:S:.-d.u.-')]\n"
     ]
    },
    {
     "name": "stderr",
     "output_type": "stream",
     "text": [
      "\r",
      "66it [00:20,  3.18it/s]"
     ]
    },
    {
     "name": "stdout",
     "output_type": "stream",
     "text": [
      "Get descriptors 0.17652201652526855\n",
      "remove_key 0.00417637825012207\n",
      "Commit transaction 0.07091140747070312\n",
      "[E:.b.E:B:.- ! E:.f.- (E:.U:.c.- E:.wo.- E:S:.-d.u.-')(m.a.-f.a.-')]\n"
     ]
    },
    {
     "name": "stderr",
     "output_type": "stream",
     "text": [
      "\r",
      "67it [00:21,  3.18it/s]"
     ]
    },
    {
     "name": "stdout",
     "output_type": "stream",
     "text": [
      "Get descriptors 0.18625688552856445\n",
      "remove_key 0.0038170814514160156\n",
      "Commit transaction 0.07635235786437988\n",
      "[E:.b.E:B:.- ! E:.f.- (E:.U:.c.- E:.wo.- E:.-n.E:U:.-' E:S:.-d.u.-')(l.o.-m.o.-')]\n"
     ]
    },
    {
     "name": "stderr",
     "output_type": "stream",
     "text": [
      "\r",
      "68it [00:21,  3.18it/s]"
     ]
    },
    {
     "name": "stdout",
     "output_type": "stream",
     "text": [
      "Get descriptors 0.17942023277282715\n",
      "remove_key 0.003985404968261719\n",
      "Commit transaction 0.07227826118469238\n",
      "[E:.b.E:B:.- ! E:.f.- (E:.U:.c.- E:.wo.- E:.-n.S:.-' E:S:.-d.u.-')(l.o.-m.o.-')]\n"
     ]
    },
    {
     "name": "stderr",
     "output_type": "stream",
     "text": [
      "\r",
      "69it [00:21,  3.18it/s]"
     ]
    },
    {
     "name": "stdout",
     "output_type": "stream",
     "text": [
      "Get descriptors 0.18162131309509277\n",
      "remove_key 0.003922939300537109\n",
      "Commit transaction 0.06758236885070801\n",
      "[E:.b.E:B:.- ! E:.f.- (E:.U:.c.- E:.wo.- E:.-n.E:U:.-' E:S:.-d.u.-')(f.a.-m.a.-')]\n"
     ]
    },
    {
     "name": "stderr",
     "output_type": "stream",
     "text": [
      "\r",
      "70it [00:22,  3.18it/s]"
     ]
    },
    {
     "name": "stdout",
     "output_type": "stream",
     "text": [
      "Get descriptors 0.17335224151611328\n",
      "remove_key 0.003270864486694336\n",
      "Commit transaction 0.07182025909423828\n",
      "[E:.b.E:B:.- ! E:.f.- (E:.U:.c.- E:.wo.- E:.-n.S:.-' E:S:.-d.u.-')(f.a.-m.a.-')]\n"
     ]
    },
    {
     "name": "stderr",
     "output_type": "stream",
     "text": [
      "\r",
      "71it [00:22,  3.18it/s]"
     ]
    },
    {
     "name": "stdout",
     "output_type": "stream",
     "text": [
      "Get descriptors 0.17829298973083496\n",
      "remove_key 0.003373861312866211\n",
      "Commit transaction 0.08250117301940918\n",
      "[E:.b.E:T:.- ! E:U:. (E:.U:.c.-)(f.a.-m.a.-')]\n"
     ]
    },
    {
     "name": "stderr",
     "output_type": "stream",
     "text": [
      "\r",
      "72it [00:22,  3.18it/s]"
     ]
    },
    {
     "name": "stdout",
     "output_type": "stream",
     "text": [
      "Get descriptors 0.1831800937652588\n",
      "remove_key 0.0047190189361572266\n",
      "Commit transaction 0.07357335090637207\n",
      "[E:.b.E:B:.- ! E:.f.- (E:.wo.- E:.A:.c.- E:.-n.E:U:.-' E:S:.-d.u.-')(f.a.-m.a.-')]\n"
     ]
    },
    {
     "name": "stderr",
     "output_type": "stream",
     "text": [
      "\r",
      "73it [00:22,  3.18it/s]"
     ]
    },
    {
     "name": "stdout",
     "output_type": "stream",
     "text": [
      "Get descriptors 0.17272710800170898\n",
      "remove_key 0.0031855106353759766\n",
      "Commit transaction 0.0707254409790039\n",
      "[E:.b.E:B:.- ! E:.f.- (E:.wo.- E:.A:.c.- E:.-n.S:.-' E:S:.-d.u.-')(f.a.-m.a.-')]\n"
     ]
    },
    {
     "name": "stderr",
     "output_type": "stream",
     "text": [
      "\r",
      "74it [00:23,  3.18it/s]"
     ]
    },
    {
     "name": "stdout",
     "output_type": "stream",
     "text": [
      "Get descriptors 0.18191194534301758\n",
      "remove_key 0.0047304630279541016\n",
      "Commit transaction 0.07190656661987305\n",
      "[E:.b.E:T:.- ! E:U:. (E:.A:.c.-)(f.a.-m.a.-')]\n"
     ]
    },
    {
     "name": "stderr",
     "output_type": "stream",
     "text": [
      "\r",
      "75it [00:23,  3.18it/s]"
     ]
    },
    {
     "name": "stdout",
     "output_type": "stream",
     "text": [
      "Get descriptors 0.17038178443908691\n",
      "remove_key 0.004427433013916016\n",
      "Commit transaction 0.07519912719726562\n",
      "[E:.b.E:S:.- ! E:S:. (E:.-wa.-t.o.-' E:.-'wu.-S:.-'t.o.-',)(we.) > E:.f.- (E:.U:.j.- E:.wo.- E:S:.-d.u.-')]\n"
     ]
    },
    {
     "name": "stderr",
     "output_type": "stream",
     "text": [
      "\r",
      "76it [00:23,  3.18it/s]"
     ]
    },
    {
     "name": "stdout",
     "output_type": "stream",
     "text": [
      "Get descriptors 0.16759800910949707\n",
      "remove_key 0.00422215461730957\n",
      "Commit transaction 0.06879448890686035\n",
      "[E:.b.E:B:.- ! E:.f.- (E:.U:.j.- E:.wo.- E:S:.-d.u.-')(l.o.-m.o.-')]\n"
     ]
    },
    {
     "name": "stderr",
     "output_type": "stream",
     "text": [
      "\r",
      "77it [00:24,  3.18it/s]"
     ]
    },
    {
     "name": "stdout",
     "output_type": "stream",
     "text": [
      "Get descriptors 0.18523192405700684\n",
      "remove_key 0.007555484771728516\n",
      "Commit transaction 0.08309555053710938\n",
      "[E:.b.E:T:.- ! E:U:. (E:.U:.j.-)(n.i.-d.i.-t.u.-')]\n"
     ]
    },
    {
     "name": "stderr",
     "output_type": "stream",
     "text": [
      "\r",
      "78it [00:24,  3.17it/s]"
     ]
    },
    {
     "name": "stdout",
     "output_type": "stream",
     "text": [
      "Get descriptors 0.20632028579711914\n",
      "remove_key 0.014790773391723633\n",
      "Commit transaction 0.08197832107543945\n",
      "[E:.b.E:B:.- ! E:A:. (E:.wo.- E:S:.-d.u.-')(f.u.-wu.f.S:.-')(E:U:A:.)]\n"
     ]
    },
    {
     "name": "stderr",
     "output_type": "stream",
     "text": [
      "\r",
      "80it [00:24,  3.21it/s]"
     ]
    },
    {
     "name": "stdout",
     "output_type": "stream",
     "text": [
      "Get descriptors 0.2149062156677246\n",
      "remove_key 0.01106405258178711\n",
      "Commit transaction 0.0656118392944336\n",
      "[E:.b.E:B:.- ! E:A:. (E:.wo.- E:S:.-d.u.-')(f.u.-wu.f.U:.-')(E:U:A:.)]\n"
     ]
    },
    {
     "name": "stderr",
     "output_type": "stream",
     "text": [
      "\r",
      "81it [00:25,  3.21it/s]"
     ]
    },
    {
     "name": "stdout",
     "output_type": "stream",
     "text": [
      "Get descriptors 0.1650857925415039\n",
      "remove_key 0.020836830139160156\n",
      "Commit transaction 0.07225871086120605\n",
      "[E:.b.E:B:.- ! E:A:. (E:.wo.- E:S:.-d.u.-')(s.e.-k.u.-wa.e.-')(E:U:A:.)]\n"
     ]
    },
    {
     "name": "stderr",
     "output_type": "stream",
     "text": [
      "\r",
      "82it [00:25,  3.21it/s]"
     ]
    },
    {
     "name": "stdout",
     "output_type": "stream",
     "text": [
      "Get descriptors 0.19216632843017578\n",
      "remove_key 0.015144109725952148\n",
      "Commit transaction 0.07093286514282227\n",
      "[E:.b.E:B:.- ! E:.s.- (E:.wo.- E:T:.d.- E:S:.-d.u.-')(s.-S:.U:.-' s.-S:.A:.-')]\n"
     ]
    },
    {
     "name": "stderr",
     "output_type": "stream",
     "text": [
      "\r",
      "83it [00:25,  3.20it/s]"
     ]
    },
    {
     "name": "stdout",
     "output_type": "stream",
     "text": [
      "Get descriptors 0.19710016250610352\n",
      "remove_key 0.0038056373596191406\n",
      "Commit transaction 0.06690573692321777\n",
      "[E:.b.E:B:.- ! E:.l.- (E:.wo.- E:.-A:.t.-l.-' E:S:.-d.u.-')(k.i.-l.i.-')]\n"
     ]
    },
    {
     "name": "stderr",
     "output_type": "stream",
     "text": [
      "\r",
      "84it [00:26,  3.21it/s]"
     ]
    },
    {
     "name": "stdout",
     "output_type": "stream",
     "text": [
      "Get descriptors 0.1706233024597168\n",
      "remove_key 0.003977298736572266\n",
      "Commit transaction 0.07182002067565918\n",
      "[E:.b.E:B:.- ! E:.l.- (E:.wo.- E:.-A:.b.-l.-' E:S:.-d.u.-')(k.i.-l.i.-')]\n"
     ]
    },
    {
     "name": "stderr",
     "output_type": "stream",
     "text": [
      "\r",
      "85it [00:26,  3.21it/s]"
     ]
    },
    {
     "name": "stdout",
     "output_type": "stream",
     "text": [
      "Get descriptors 0.18604516983032227\n",
      "remove_key 0.004834175109863281\n",
      "Commit transaction 0.0688786506652832\n",
      "[E:.b.E:B:.- ! E:.l.- (E:.wo.- E:.-A:.f.-l.-' E:S:.-d.u.-')(k.i.-l.i.-')]\n"
     ]
    },
    {
     "name": "stderr",
     "output_type": "stream",
     "text": [
      "\r",
      "86it [00:26,  3.21it/s]"
     ]
    },
    {
     "name": "stdout",
     "output_type": "stream",
     "text": [
      "Get descriptors 0.17221522331237793\n",
      "remove_key 0.004899740219116211\n",
      "Commit transaction 0.06809258460998535\n",
      "[E:.b.E:B:.- ! E:.l.- (E:.wo.- E:.-A:.l.-l.-' E:S:.-d.u.-')(k.i.-l.i.-')]\n"
     ]
    },
    {
     "name": "stderr",
     "output_type": "stream",
     "text": [
      "\r",
      "87it [00:27,  3.21it/s]"
     ]
    },
    {
     "name": "stdout",
     "output_type": "stream",
     "text": [
      "Get descriptors 0.16298961639404297\n",
      "remove_key 0.003845691680908203\n",
      "Commit transaction 0.07005524635314941\n",
      "[E:.b.E:B:.- ! E:.l.- (E:.wo.- E:.-U:.b.-l.-' E:S:.-d.u.-')(k.i.-l.i.-')]\n"
     ]
    },
    {
     "name": "stderr",
     "output_type": "stream",
     "text": [
      "\r",
      "88it [00:27,  3.21it/s]"
     ]
    },
    {
     "name": "stdout",
     "output_type": "stream",
     "text": [
      "Get descriptors 0.1690056324005127\n",
      "remove_key 0.0034911632537841797\n",
      "Commit transaction 0.07389497756958008\n",
      "[E:.b.E:B:.- ! E:.l.- (E:.wo.- E:.-U:.t.-l.-' E:S:.-d.u.-')(k.i.-l.i.-')]\n"
     ]
    },
    {
     "name": "stderr",
     "output_type": "stream",
     "text": [
      "\r",
      "89it [00:27,  3.21it/s]"
     ]
    },
    {
     "name": "stdout",
     "output_type": "stream",
     "text": [
      "Get descriptors 0.17170071601867676\n",
      "remove_key 0.00333404541015625\n",
      "Commit transaction 0.06864356994628906\n",
      "[E:.b.E:B:.- ! E:.l.- (E:.wo.- E:.-U:.f.-l.-' E:S:.-d.u.-')(k.i.-l.i.-')]\n"
     ]
    },
    {
     "name": "stderr",
     "output_type": "stream",
     "text": [
      "\r",
      "90it [00:27,  3.21it/s]"
     ]
    },
    {
     "name": "stdout",
     "output_type": "stream",
     "text": [
      "Get descriptors 0.1685774326324463\n",
      "remove_key 0.0037441253662109375\n",
      "Commit transaction 0.06980514526367188\n",
      "[E:.b.E:B:.- ! E:.l.- (E:.wo.- E:.-U:.l.-l.-' E:S:.-d.u.-')(k.i.-l.i.-')]\n"
     ]
    },
    {
     "name": "stderr",
     "output_type": "stream",
     "text": [
      "\r",
      "91it [00:28,  3.22it/s]"
     ]
    },
    {
     "name": "stdout",
     "output_type": "stream",
     "text": [
      "Get descriptors 0.1638033390045166\n",
      "remove_key 0.0040111541748046875\n",
      "Commit transaction 0.0812077522277832\n",
      "[E:.b.E:S:.- ! E:S:. (E:.-wa.-t.o.-' E:.-'wu.-S:.-'t.o.-',)(m.a.-f.a.-')]\n"
     ]
    },
    {
     "name": "stderr",
     "output_type": "stream",
     "text": [
      "\r",
      "92it [00:28,  3.21it/s]"
     ]
    },
    {
     "name": "stdout",
     "output_type": "stream",
     "text": [
      "Get descriptors 0.17087554931640625\n",
      "remove_key 0.007169008255004883\n",
      "Commit transaction 0.10996270179748535\n",
      "[E:.b.E:B:.- ! E:.s.- (E:.wo.- E:S:.x.- E:S:.-d.u.-')(l.-T:.U:.-',n.-T:.A:.-',t.o.-f.o.-',_)]\n"
     ]
    },
    {
     "name": "stderr",
     "output_type": "stream",
     "text": [
      "\r",
      "93it [00:29,  3.20it/s]"
     ]
    },
    {
     "name": "stdout",
     "output_type": "stream",
     "text": [
      "Get descriptors 0.21863722801208496\n",
      "remove_key 0.0051195621490478516\n",
      "Commit transaction 0.07337546348571777\n",
      "[E:.b.E:B:.- ! E:.s.- (E:.we.- E:S:.p.- E:S:.-d.u.-')(B:.B:.n.-k.-u.S:.-' f.-S:.A:.-')]\n"
     ]
    },
    {
     "name": "stderr",
     "output_type": "stream",
     "text": [
      "\r",
      "94it [00:29,  3.20it/s]"
     ]
    },
    {
     "name": "stdout",
     "output_type": "stream",
     "text": [
      "Get descriptors 0.18144941329956055\n",
      "remove_key 0.0049707889556884766\n",
      "Commit transaction 0.07574224472045898\n",
      "[E:.b.E:S:.- ! E:S:. (E:.-wa.-t.o.-' E:S:.-t.o.-' E:.-'wu.-S:.-'t.o.-',)(e.U:.-)]\n"
     ]
    },
    {
     "name": "stderr",
     "output_type": "stream",
     "text": [
      "\r",
      "95it [00:29,  3.20it/s]"
     ]
    },
    {
     "name": "stdout",
     "output_type": "stream",
     "text": [
      "Get descriptors 0.1840953826904297\n",
      "remove_key 0.0037682056427001953\n",
      "Commit transaction 0.06662845611572266\n",
      "[E:.b.E:S:.- ! E:S:. (E:.-wa.-t.o.-' E:B:.-t.o.-' E:.-'wu.-S:.-'t.o.-',)(e.U:.-)]\n"
     ]
    },
    {
     "name": "stderr",
     "output_type": "stream",
     "text": [
      "\r",
      "96it [00:29,  3.21it/s]"
     ]
    },
    {
     "name": "stdout",
     "output_type": "stream",
     "text": [
      "Get descriptors 0.1886742115020752\n",
      "remove_key 0.0030951499938964844\n",
      "Commit transaction 0.06571269035339355\n",
      "[E:.b.E:S:.- ! E:S:. (E:.-wa.-t.o.-' E:T:.-t.o.-' E:.-'wu.-S:.-'t.o.-',)(e.U:.-)]\n"
     ]
    },
    {
     "name": "stderr",
     "output_type": "stream",
     "text": [
      "\r",
      "97it [00:30,  3.21it/s]"
     ]
    },
    {
     "name": "stdout",
     "output_type": "stream",
     "text": [
      "Get descriptors 0.17444705963134766\n",
      "remove_key 0.005001544952392578\n",
      "Commit transaction 0.06681013107299805\n",
      "[E:.b.E:S:.- ! E:S:. (E:.-wa.-t.o.-' E:S:.-t.o.-' E:.-'wu.-S:.-'t.o.-',)(n.u.-s.u.-')(E:.b.we.-)]\n"
     ]
    },
    {
     "name": "stderr",
     "output_type": "stream",
     "text": [
      "\r",
      "98it [00:30,  3.21it/s]"
     ]
    },
    {
     "name": "stdout",
     "output_type": "stream",
     "text": [
      "Get descriptors 0.1754450798034668\n",
      "remove_key 0.0044748783111572266\n",
      "Commit transaction 0.07547855377197266\n",
      "[E:.b.E:S:.- ! E:S:. (E:.-wa.-t.o.-' E:B:.-t.o.-' E:.-'wu.-S:.-'t.o.-',)(A:.a.-) > E:.d.- (E:.wo.- E:S:.-d.u.-')(l.j.-)]\n"
     ]
    },
    {
     "name": "stderr",
     "output_type": "stream",
     "text": [
      "\r",
      "99it [00:30,  3.20it/s]"
     ]
    },
    {
     "name": "stdout",
     "output_type": "stream",
     "text": [
      "Get descriptors 0.22908234596252441\n",
      "remove_key 0.004871368408203125\n",
      "Commit transaction 0.0902101993560791\n",
      "[E:.b.E:S:.- ! E:S:. (E:.-wa.-t.o.-' E:T:.-t.o.-' E:.-'wu.-S:.-'t.o.-',)(A:.a.-) > E:.d.- (E:.wo.- E:S:.-d.u.-')(l.j.-)]\n"
     ]
    },
    {
     "name": "stderr",
     "output_type": "stream",
     "text": [
      "\r",
      "100it [00:31,  3.19it/s]"
     ]
    },
    {
     "name": "stdout",
     "output_type": "stream",
     "text": [
      "Get descriptors 0.24665236473083496\n",
      "remove_key 0.006969928741455078\n",
      "Commit transaction 0.09383440017700195\n",
      "[E:.b.E:B:.- E:B:. (E:.-wa.-t.o.-' E:.-'wu.-S:.-'t.o.-',)(e.) > ! E:.n.- (E:.wo.- E:S:.-d.u.-') > E:.d.- (E:.wo.- E:S:.-d.u.-')(m.-S:.U:.-')]\n"
     ]
    },
    {
     "name": "stderr",
     "output_type": "stream",
     "text": [
      "\r",
      "101it [00:31,  3.19it/s]"
     ]
    },
    {
     "name": "stdout",
     "output_type": "stream",
     "text": [
      "Get descriptors 0.1861729621887207\n",
      "remove_key 0.011125326156616211\n",
      "Commit transaction 0.06830215454101562\n",
      "[E:.b.E:S:.- ! E:B:. (E:.-wa.-t.o.-' E:.-'wu.-S:.-'t.o.-',)(we.)(E:.b.wa.-)]\n"
     ]
    },
    {
     "name": "stderr",
     "output_type": "stream",
     "text": [
      "\r",
      "102it [00:31,  3.19it/s]"
     ]
    },
    {
     "name": "stdout",
     "output_type": "stream",
     "text": [
      "Get descriptors 0.15305590629577637\n",
      "remove_key 0.00975942611694336\n",
      "Commit transaction 0.09605193138122559\n",
      "[E:.b.E:S:.- ! E:B:. (E:.-wa.-t.o.-' E:.-'wu.-S:.-'t.o.-',)(e.c.-) > E:.d.- (E:.wo.- E:S:.-d.u.-')(t.i.-s.i.-')]\n"
     ]
    },
    {
     "name": "stderr",
     "output_type": "stream",
     "text": [
      "\r",
      "103it [00:32,  3.18it/s]"
     ]
    },
    {
     "name": "stdout",
     "output_type": "stream",
     "text": [
      "Get descriptors 0.20221400260925293\n",
      "remove_key 0.00426483154296875\n",
      "Commit transaction 0.09346270561218262\n",
      "[E:.b.E:S:.- ! E:B:. (E:.-wa.-t.o.-' E:.-'wu.-S:.-'t.o.-',)(we.)(E:.b.wa.-) > E:.d.- (E:.wo.- E:S:.-d.u.-')(m.-T:.U:.-') > E:.d.- E:U:. ()]\n"
     ]
    },
    {
     "name": "stderr",
     "output_type": "stream",
     "text": [
      "\r",
      "104it [00:32,  3.17it/s]"
     ]
    },
    {
     "name": "stdout",
     "output_type": "stream",
     "text": [
      "Get descriptors 0.21612930297851562\n",
      "remove_key 0.030385971069335938\n",
      "Commit transaction 0.08566570281982422\n",
      "[E:.b.E:S:.- ! E:S:. (E:.-wa.-t.o.-' E:.-'wu.-S:.-'t.o.-',)(wo.) > E:.l.- (E:.wo.- E:.-B:.k.-l.-' E:S:.-d.u.-') > E:.l.- E:A:. (E:.wo.- E:S:.-d.u.-')(m.-T:.A:.-'m.-S:.U:.-'E:A:T:.-',)]\n"
     ]
    },
    {
     "name": "stderr",
     "output_type": "stream",
     "text": [
      "\r",
      "105it [00:33,  3.17it/s]"
     ]
    },
    {
     "name": "stdout",
     "output_type": "stream",
     "text": [
      "Get descriptors 0.1821913719177246\n",
      "remove_key 0.01001882553100586\n",
      "Commit transaction 0.06647586822509766\n",
      "[E:.b.E:B:.- ! E:A:. (E:.wo.- E:S:.-d.u.-')(k.a.-) > E:A:. E:A:. (E:.wo.- E:S:.-d.u.-')(t.i.-s.i.-'u.B:.-U:.-'wa.-',)]\n"
     ]
    },
    {
     "name": "stderr",
     "output_type": "stream",
     "text": [
      "\r",
      "106it [00:33,  3.18it/s]"
     ]
    },
    {
     "name": "stdout",
     "output_type": "stream",
     "text": [
      "Get descriptors 0.17296218872070312\n",
      "remove_key 0.0038034915924072266\n",
      "Commit transaction 0.07306480407714844\n",
      "[E:.b.E:B:.- ! E:A:. (E:.wo.- E:S:.-d.u.-')(k.x.-) > E:A:. E:A:. (E:.wo.- E:S:.-d.u.-')(t.i.-s.i.-'u.B:.-U:.-'wa.-',)]\n"
     ]
    },
    {
     "name": "stderr",
     "output_type": "stream",
     "text": [
      "\r",
      "107it [00:33,  3.17it/s]"
     ]
    },
    {
     "name": "stdout",
     "output_type": "stream",
     "text": [
      "Get descriptors 0.22494173049926758\n",
      "remove_key 0.005143642425537109\n",
      "Commit transaction 0.0643911361694336\n",
      "[E:.b.E:S:.- ! E:S:. (E:.-wa.-t.o.-' E:.-'wu.-S:.-'t.o.-',)(wa.) > E:.n.- (E:.wo.- E:S:.-d.u.-')(n.i.-s.i.-') > E:.f.- (E:.wo.- E:S:.-d.u.-' E:T:.-t.u.-')]\n"
     ]
    },
    {
     "name": "stderr",
     "output_type": "stream",
     "text": [
      "\r",
      "108it [00:34,  3.17it/s]"
     ]
    },
    {
     "name": "stdout",
     "output_type": "stream",
     "text": [
      "Get descriptors 0.18086862564086914\n",
      "remove_key 0.011518716812133789\n",
      "Commit transaction 0.06351137161254883\n",
      "[E:.b.E:S:.- ! E:S:. (E:.-wa.-t.o.-' E:.-'wu.-S:.-'t.o.-',)(wa.) > E:.n.- (E:.wo.- E:S:.-d.u.-')(n.i.-s.i.-') > E:.f.- (E:U:S:. E:.wo.- E:S:.-d.u.-')]\n"
     ]
    },
    {
     "name": "stderr",
     "output_type": "stream",
     "text": [
      "\r",
      "109it [00:34,  3.17it/s]"
     ]
    },
    {
     "name": "stdout",
     "output_type": "stream",
     "text": [
      "Get descriptors 0.16082262992858887\n",
      "remove_key 0.011583328247070312\n",
      "Commit transaction 0.07303404808044434\n",
      "[E:.b.E:S:.- ! E:S:. (E:.-wa.-t.o.-' E:.-'wu.-S:.-'t.o.-',)(wo.) > E:.n.- (E:.wo.- E:S:.-d.u.-')(f.i.-k.i.-') > E:.f.- (E:U:S:. E:.wo.- E:S:.-d.u.-')]\n"
     ]
    },
    {
     "name": "stderr",
     "output_type": "stream",
     "text": [
      "\r",
      "110it [00:34,  3.17it/s]"
     ]
    },
    {
     "name": "stdout",
     "output_type": "stream",
     "text": [
      "Get descriptors 0.19568538665771484\n",
      "remove_key 0.011249065399169922\n",
      "Commit transaction 0.06825017929077148\n",
      "[E:.b.E:S:.- ! E:T:. (E:.-wa.-t.o.-' E:.-'wu.-S:.-'t.o.-',)(i.) > E:.n.- (E:.wo.- E:S:.-d.u.-')(t.i.-s.i.-'u.T:.-U:.-'we.-',B:.-',_B:.-',_;) > E:.f.- (E:U:S:. E:.wo.- E:S:.-d.u.-')]\n"
     ]
    },
    {
     "name": "stderr",
     "output_type": "stream",
     "text": [
      "\r",
      "111it [00:34,  3.17it/s]"
     ]
    },
    {
     "name": "stdout",
     "output_type": "stream",
     "text": [
      "Get descriptors 0.18401527404785156\n",
      "remove_key 0.0038161277770996094\n",
      "Commit transaction 0.06296372413635254\n",
      "[E:.b.E:S:.- ! E:S:. (E:.-wa.-t.o.-' E:.-'wu.-S:.-'t.o.-',)(m.-T:.A:.-'m.-S:.U:.-'E:A:T:.-',)(E:.b.wa.-)]\n"
     ]
    },
    {
     "name": "stderr",
     "output_type": "stream",
     "text": [
      "\r",
      "112it [00:35,  3.18it/s]"
     ]
    },
    {
     "name": "stdout",
     "output_type": "stream",
     "text": [
      "Get descriptors 0.1617107391357422\n",
      "remove_key 0.009955167770385742\n",
      "Commit transaction 0.06742525100708008\n",
      "[E:.b.E:S:.- ! E:S:. (E:.-wa.-t.o.-' E:.-'wu.-S:.-'t.o.-',)(f.o.-d.o.-')(E:.b.wa.-)]\n"
     ]
    },
    {
     "name": "stderr",
     "output_type": "stream",
     "text": [
      "\r",
      "113it [00:35,  3.18it/s]"
     ]
    },
    {
     "name": "stdout",
     "output_type": "stream",
     "text": [
      "Get descriptors 0.1718897819519043\n",
      "remove_key 0.003891468048095703\n",
      "Commit transaction 0.0656733512878418\n",
      "[E:.b.E:S:.- ! E:S:. (E:.-wa.-t.o.-' E:T:.-t.o.-' E:.-'wu.-S:.-'t.o.-',)(m.-B:.A:.-')(E:.b.wa.-)]\n"
     ]
    },
    {
     "name": "stderr",
     "output_type": "stream",
     "text": [
      "\r",
      "114it [00:35,  3.18it/s]"
     ]
    },
    {
     "name": "stdout",
     "output_type": "stream",
     "text": [
      "Get descriptors 0.17267775535583496\n",
      "remove_key 0.0034627914428710938\n",
      "Commit transaction 0.06808185577392578\n",
      "[E:.b.E:S:.- ! E:S:. (E:.-wa.-t.o.-' E:.-'wu.-S:.-'t.o.-',)(s.)(E:S:U:. E:.b.wa.-)]\n"
     ]
    },
    {
     "name": "stderr",
     "output_type": "stream",
     "text": [
      "\r",
      "115it [00:36,  3.18it/s]"
     ]
    },
    {
     "name": "stdout",
     "output_type": "stream",
     "text": [
      "Get descriptors 0.17971301078796387\n",
      "remove_key 0.0036253929138183594\n",
      "Commit transaction 0.06735014915466309\n",
      "[E:.b.E:S:.- ! E:S:. (E:.-wa.-t.o.-' E:.-'wu.-S:.-'t.o.-',)(wa.wo.t.-) > E:.s.- (E:.wo.- E:T:.c.- E:S:.-d.u.-')(s.c.we.-)]\n"
     ]
    },
    {
     "name": "stderr",
     "output_type": "stream",
     "text": [
      "\r",
      "116it [00:36,  3.18it/s]"
     ]
    },
    {
     "name": "stdout",
     "output_type": "stream",
     "text": [
      "Get descriptors 0.16748785972595215\n",
      "remove_key 0.0036368370056152344\n",
      "Commit transaction 0.06396055221557617\n",
      "[E:.b.E:S:.- ! E:S:. (E:.-wa.-t.o.-' E:.-'wu.-S:.-'t.o.-',)(wa.we.t.-)(E:.b.o.-) > E:.s.- (E:.wo.- E:T:.c.- E:S:.-d.u.-')(m.u.-)]\n"
     ]
    },
    {
     "name": "stderr",
     "output_type": "stream",
     "text": [
      "\r",
      "117it [00:36,  3.18it/s]"
     ]
    },
    {
     "name": "stdout",
     "output_type": "stream",
     "text": [
      "Get descriptors 0.16987943649291992\n",
      "remove_key 0.00924229621887207\n",
      "Commit transaction 0.06334710121154785\n",
      "[E:.b.E:S:.- ! E:B:. (E:.-wa.-t.o.-' E:.-'wu.-S:.-'t.o.-',)(u.a.-) > E:.s.- (E:.wo.- E:T:.c.- E:S:.-d.u.-')(p.we.-)]\n"
     ]
    },
    {
     "name": "stderr",
     "output_type": "stream",
     "text": [
      "\r",
      "118it [00:37,  3.18it/s]"
     ]
    },
    {
     "name": "stdout",
     "output_type": "stream",
     "text": [
      "Get descriptors 0.17463445663452148\n",
      "remove_key 0.0033893585205078125\n",
      "Commit transaction 0.06944680213928223\n",
      "[E:.b.E:S:.- ! E:S:. (E:.-wa.-t.o.-' E:.-'wu.-B:.-'t.o.-',)(a.u.-)]\n"
     ]
    },
    {
     "name": "stderr",
     "output_type": "stream",
     "text": [
      "\r",
      "119it [00:37,  3.19it/s]"
     ]
    },
    {
     "name": "stdout",
     "output_type": "stream",
     "text": [
      "Get descriptors 0.16128277778625488\n",
      "remove_key 0.004951953887939453\n",
      "Commit transaction 0.07527422904968262\n",
      "[E:.b.E:S:.- ! E:S:. (E:.-wa.-t.o.-' E:.-'wu.-S:.-'t.o.-',)(u.A:.-) > E:.l.- (E:.wo.- E:.-U:.s.-l.-' E:S:.-d.u.-')(l.-y.-'E:U:.n.-l.-'E:U:.s.-l.-',) > E:.f.- (E:.wo.- E:S:.-d.u.-')(i.c.-) > E:.s.- (E:.wo.- E:T:.x.- E:S:.-d.u.-')(n.i.-f.i.-')]\n"
     ]
    },
    {
     "name": "stderr",
     "output_type": "stream",
     "text": [
      "\r",
      "121it [00:37,  3.21it/s]"
     ]
    },
    {
     "name": "stdout",
     "output_type": "stream",
     "text": [
      "Get descriptors 0.1692795753479004\n",
      "remove_key 0.007399082183837891\n",
      "Commit transaction 0.06480169296264648\n",
      "[E:.b.E:S:.- ! E:S:. (E:.-wa.-t.o.-' E:.-'wu.-S:.-'t.o.-',)(u.A:.-) > E:.l.- (E:.wo.- E:.-U:.s.-l.-' E:S:.-d.u.-')(l.-y.-'E:U:.n.-l.-'E:U:.s.-l.-',) > E:.f.- (E:.wo.- E:S:.-d.u.-')(i.c.-) > E:.s.- (E:.wo.- E:T:.x.- E:S:.-d.u.-')(B:.B:.n.-k.-u.T:.-')]\n"
     ]
    },
    {
     "name": "stderr",
     "output_type": "stream",
     "text": [
      "\r",
      "122it [00:37,  3.21it/s]"
     ]
    },
    {
     "name": "stdout",
     "output_type": "stream",
     "text": [
      "Get descriptors 0.1776566505432129\n",
      "remove_key 0.012423515319824219\n",
      "Commit transaction 0.07795429229736328\n",
      "[E:.b.E:S:.- ! E:S:. (E:.-wa.-t.o.-' E:S:.-t.o.-' E:.-'wu.-S:.-'t.o.-',)(u.A:.-) > E:.l.- (E:.wo.- E:.-U:.s.-l.-' E:S:.-d.u.-')(n.-T:.U:.-') > E:.f.- (E:.U:.j.- E:.wo.- E:S:.-d.u.-')(l.o.-m.o.-s.u.-') > E:.s.- (E:.wo.- E:T:.x.- E:S:.-d.u.-')(t.i.-s.i.-'u.S:.-U:.-'wa.-',)]\n"
     ]
    },
    {
     "name": "stderr",
     "output_type": "stream",
     "text": [
      "\r",
      "123it [00:38,  3.21it/s]"
     ]
    },
    {
     "name": "stdout",
     "output_type": "stream",
     "text": [
      "Get descriptors 0.2007145881652832\n",
      "remove_key 0.01130986213684082\n",
      "Commit transaction 0.06879091262817383\n",
      "[E:.b.E:S:.- ! E:S:. (E:.-wa.-t.o.-' E:.-'wu.-S:.-'t.o.-',)(u.A:.-) > E:.l.- (E:.wo.- E:.-U:.s.-l.-' E:S:.-d.u.-')(n.-T:.U:.-') > E:.f.- (E:.wo.- E:S:.-d.u.-')(l.o.-m.o.-s.u.-')]\n"
     ]
    },
    {
     "name": "stderr",
     "output_type": "stream",
     "text": [
      "\r",
      "124it [00:38,  3.21it/s]"
     ]
    },
    {
     "name": "stdout",
     "output_type": "stream",
     "text": [
      "Get descriptors 0.19026565551757812\n",
      "remove_key 0.004190206527709961\n",
      "Commit transaction 0.06692147254943848\n",
      "[E:.b.E:S:.- ! E:S:. (E:.-wa.-t.o.-' E:T:.-t.o.-' E:.-'wu.-S:.-'t.o.-',)(u.A:.-) > E:.l.- (E:.wo.- E:.-U:.d.-l.-' E:S:.-d.u.-')(n.-T:.U:.-') > E:.f.- (E:.U:.j.- E:.wo.- E:S:.-d.u.-')(l.o.-m.o.-s.u.-') > E:.s.- (E:.wo.- E:T:.x.- E:S:.-d.u.-')(t.i.-s.i.-'u.S:.-U:.-'wa.-',)]\n"
     ]
    },
    {
     "name": "stderr",
     "output_type": "stream",
     "text": [
      "\r",
      "125it [00:38,  3.21it/s]"
     ]
    },
    {
     "name": "stdout",
     "output_type": "stream",
     "text": [
      "Get descriptors 0.19896173477172852\n",
      "remove_key 0.004634380340576172\n",
      "Commit transaction 0.0677800178527832\n",
      "[E:.b.E:S:.- ! E:S:. (E:.-wa.-t.o.-' E:S:.-t.o.-' E:.-'wu.-S:.-'t.o.-',)(u.A:.-) > E:.l.- (E:.wo.- E:.-U:.d.-l.-' E:S:.-d.u.-')(n.-T:.A:.-') > E:.f.- (E:.U:.j.- E:.wo.- E:S:.-d.u.-')(l.o.-m.o.-s.u.-') > E:.s.- (E:.wo.- E:T:.x.- E:S:.-d.u.-')(n.i.-f.i.-')]\n"
     ]
    },
    {
     "name": "stderr",
     "output_type": "stream",
     "text": [
      "\r",
      "126it [00:39,  3.21it/s]"
     ]
    },
    {
     "name": "stdout",
     "output_type": "stream",
     "text": [
      "Get descriptors 0.18999004364013672\n",
      "remove_key 0.011839628219604492\n",
      "Commit transaction 0.06175947189331055\n",
      "[E:.b.E:S:.- ! E:S:. (E:.-wa.-t.o.-' E:S:.-t.o.-' E:.-'wu.-S:.-'t.o.-',)(u.A:.-) > E:.l.- (E:.wo.- E:.-U:.d.-l.-' E:S:.-d.u.-')(n.-T:.A:.-') > E:.f.- (E:.wo.- E:S:.-d.u.-')(l.o.-m.o.-s.u.-') > E:.s.- (E:.wo.- E:T:.x.- E:S:.-d.u.-')(n.i.-f.i.-')]\n"
     ]
    },
    {
     "name": "stderr",
     "output_type": "stream",
     "text": [
      "\r",
      "127it [00:39,  3.21it/s]"
     ]
    },
    {
     "name": "stdout",
     "output_type": "stream",
     "text": [
      "Get descriptors 0.1815662384033203\n",
      "remove_key 0.012022018432617188\n",
      "Commit transaction 0.06814932823181152\n",
      "[E:.b.E:S:.- ! E:S:. (E:.-wa.-t.o.-' E:S:.-t.o.-' E:.-'wu.-S:.-'t.o.-',)(u.A:.-) > E:.l.- (E:.wo.- E:.-U:.d.-l.-' E:S:.-d.u.-')(n.-T:.U:.-') > E:.f.- (E:.wo.- E:S:.-d.u.-')(n.i.-d.i.-t.u.-') > E:.s.- (E:.wo.- E:T:.x.- E:S:.-d.u.-')(n.i.-f.i.-')]\n"
     ]
    },
    {
     "name": "stderr",
     "output_type": "stream",
     "text": [
      "\r",
      "128it [00:39,  3.21it/s]"
     ]
    },
    {
     "name": "stdout",
     "output_type": "stream",
     "text": [
      "Get descriptors 0.1850271224975586\n",
      "remove_key 0.011878252029418945\n",
      "Commit transaction 0.06786489486694336\n",
      "[E:.b.E:S:.- ! E:S:. (E:.-wa.-t.o.-' E:S:.-t.o.-' E:.-'wu.-S:.-'t.o.-',)(u.A:.-) > E:.l.- (E:.wo.- E:.-U:.d.-l.-' E:S:.-d.u.-')(n.-T:.U:.-') > E:.f.- (E:.wo.- E:S:.-d.u.-')(l.o.-m.o.-s.u.-') > E:.s.- (E:.wo.- E:T:.x.- E:S:.-d.u.-')(n.i.-f.i.-')]\n"
     ]
    },
    {
     "name": "stderr",
     "output_type": "stream",
     "text": [
      "\r",
      "129it [00:40,  3.21it/s]"
     ]
    },
    {
     "name": "stdout",
     "output_type": "stream",
     "text": [
      "Get descriptors 0.17463994026184082\n",
      "remove_key 0.010784149169921875\n",
      "Commit transaction 0.06937789916992188\n",
      "[E:.b.E:S:.- ! E:S:. (E:.-wa.-t.o.-' E:S:.-t.o.-' E:.-'wu.-S:.-'t.o.-',)(u.A:.-) > E:.l.- (E:.wo.- E:.-U:.d.-l.-' E:S:.-d.u.-')(l.-y.-'E:U:.n.-l.-'E:U:.s.-l.-',) > E:.f.- (E:.wo.- E:S:.-d.u.-')(l.o.-m.o.-s.u.-') > E:.s.- (E:.wo.- E:T:.x.- E:S:.-d.u.-')(b.i.-n.i.-'l.i.-f.i.-'n.-B:.U:.-',)]\n"
     ]
    },
    {
     "name": "stderr",
     "output_type": "stream",
     "text": [
      "\r",
      "130it [00:40,  3.20it/s]"
     ]
    },
    {
     "name": "stdout",
     "output_type": "stream",
     "text": [
      "Get descriptors 0.1997060775756836\n",
      "remove_key 0.013032674789428711\n",
      "Commit transaction 0.06938695907592773\n",
      "[E:.b.E:B:.- E:S:. (E:.-wa.-t.o.-' E:.-'wu.-S:.-'t.o.-',)(u.A:.-) > ! E:.n.- (E:.wo.- E:S:.-d.u.-')(l.-T:.U:.-',n.-T:.A:.-',t.o.-f.o.-',_) > E:.n.- E:U:. () > E:.l.- (E:.wo.- E:.-U:.d.-l.-' E:S:.-d.u.-')(n.-T:.U:.-') > E:.f.- (E:.wo.- E:S:.-d.u.-')(n.i.-d.i.-t.u.-')]\n"
     ]
    },
    {
     "name": "stderr",
     "output_type": "stream",
     "text": [
      "\r",
      "132it [00:40,  3.23it/s]"
     ]
    },
    {
     "name": "stdout",
     "output_type": "stream",
     "text": [
      "Get descriptors 0.17975735664367676\n",
      "remove_key 0.007515430450439453\n",
      "Commit transaction 0.06889224052429199\n",
      "[E:.b.E:B:.- E:S:. (E:.-wa.-t.o.-' E:.-'wu.-S:.-'t.o.-',)(u.A:.-) > ! E:.n.- (E:.wo.- E:S:.-d.u.-')(l.-T:.U:.-',n.-T:.A:.-',t.o.-f.o.-',_) > E:.n.- E:U:. () > E:.l.- (E:.wo.- E:.-U:.d.-l.-' E:S:.-d.u.-')(n.-T:.U:.-') > E:.f.- (E:.wo.- E:S:.-d.u.-')(n.i.-d.i.-t.u.-')]\n"
     ]
    },
    {
     "name": "stderr",
     "output_type": "stream",
     "text": [
      "\r",
      "133it [00:41,  3.23it/s]"
     ]
    },
    {
     "name": "stdout",
     "output_type": "stream",
     "text": [
      "Get descriptors 0.17931222915649414\n",
      "remove_key 0.009505987167358398\n",
      "remove_key 0.008999824523925781\n",
      "remove_key 0.030786752700805664\n",
      "Commit transaction 0.06952953338623047\n",
      "[E:.b.E:B:.- E:S:. (E:.-wa.-t.o.-' E:.-'wu.-S:.-'t.o.-',)(u.A:.-) > ! E:.n.- (E:.wo.- E:S:.-d.u.-')(l.-T:.U:.-',n.-T:.A:.-',t.o.-f.o.-',_) > E:.t.- (E:.wo.- E:S:.-d.u.-')(S:.E:A:S:.-) > E:.l.- (E:.wo.- E:.-U:.d.-l.-' E:S:.-d.u.-')(n.-T:.U:.-') > E:.f.- (E:.wo.- E:S:.-d.u.-')(n.i.-d.i.-t.u.-')]\n"
     ]
    },
    {
     "name": "stderr",
     "output_type": "stream",
     "text": [
      "\r",
      "134it [00:41,  3.23it/s]"
     ]
    },
    {
     "name": "stdout",
     "output_type": "stream",
     "text": [
      "Get descriptors 0.1861569881439209\n",
      "remove_key 0.012525081634521484\n",
      "Commit transaction 0.06895923614501953\n",
      "[E:.b.E:B:.- E:S:. (E:.-wa.-t.o.-' E:.-'wu.-S:.-'t.o.-',)(u.A:.-) > ! E:.n.- (E:.wo.- E:S:.-d.u.-')(l.-T:.U:.-',n.-T:.A:.-',t.o.-f.o.-',_) > E:.t.- (E:.wo.- E:S:.-d.u.-')(S:.E:A:T:.-) > E:.l.- (E:.wo.- E:.-U:.d.-l.-' E:S:.-d.u.-')(n.-T:.U:.-') > E:.f.- (E:.wo.- E:S:.-d.u.-')(n.i.-d.i.-t.u.-')]\n"
     ]
    },
    {
     "name": "stderr",
     "output_type": "stream",
     "text": [
      "\r",
      "135it [00:41,  3.23it/s]"
     ]
    },
    {
     "name": "stdout",
     "output_type": "stream",
     "text": [
      "Get descriptors 0.1796245574951172\n",
      "remove_key 0.005067348480224609\n",
      "Commit transaction 0.06931352615356445\n",
      "[E:.b.E:B:.- E:S:. (E:.-wa.-t.o.-' E:.-'wu.-S:.-'t.o.-',)(u.A:.-) > ! E:.n.- (E:.wo.- E:S:.-d.u.-')(l.-T:.U:.-',n.-T:.A:.-',t.o.-f.o.-',_) > E:.t.- (E:.wo.- E:S:.-d.u.-')(p.E:S:B:.-) > E:.l.- (E:.wo.- E:.-U:.d.-l.-' E:S:.-d.u.-')(n.-T:.U:.-') > E:.f.- (E:.wo.- E:S:.-d.u.-')(n.i.-d.i.-t.u.-')]\n"
     ]
    },
    {
     "name": "stderr",
     "output_type": "stream",
     "text": [
      "\r",
      "136it [00:42,  3.23it/s]"
     ]
    },
    {
     "name": "stdout",
     "output_type": "stream",
     "text": [
      "Get descriptors 0.17441868782043457\n",
      "remove_key 0.012310981750488281\n",
      "Commit transaction 0.0654149055480957\n",
      "[E:.b.E:B:.- E:S:. (E:.-wa.-t.o.-' E:.-'wu.-S:.-'t.o.-',)(u.A:.-) > ! E:.n.- (E:.wo.- E:S:.-d.u.-')(l.-T:.U:.-',n.-T:.A:.-',t.o.-f.o.-',_) > E:.n.- E:U:. () > E:.t.- (E:.wo.- E:S:.-d.u.-')(S:.E:A:S:.-) > E:.l.- (E:.wo.- E:.-U:.d.-l.-' E:S:.-d.u.-')(n.-T:.U:.-') > E:.f.- (E:.wo.- E:S:.-d.u.-')(n.i.-d.i.-t.u.-')]\n"
     ]
    },
    {
     "name": "stderr",
     "output_type": "stream",
     "text": [
      "\r",
      "137it [00:42,  3.22it/s]"
     ]
    },
    {
     "name": "stdout",
     "output_type": "stream",
     "text": [
      "Get descriptors 0.18162035942077637\n",
      "remove_key 0.013341903686523438\n",
      "Commit transaction 0.06857132911682129\n",
      "[E:.b.E:B:.- E:S:. (E:.-wa.-t.o.-' E:.-'wu.-S:.-'t.o.-',)(u.A:.-) > ! E:.n.- (E:.wo.- E:S:.-d.u.-')(l.-T:.U:.-',n.-T:.A:.-',t.o.-f.o.-',_) > E:.n.- E:U:. () > E:.t.- (E:.wo.- E:S:.-d.u.-')(S:.E:A:T:.-) > E:.l.- (E:.wo.- E:.-U:.d.-l.-' E:S:.-d.u.-')(n.-T:.U:.-') > E:.f.- (E:.wo.- E:S:.-d.u.-')(n.i.-d.i.-t.u.-')]\n"
     ]
    },
    {
     "name": "stderr",
     "output_type": "stream",
     "text": [
      "\r",
      "138it [00:42,  3.22it/s]"
     ]
    },
    {
     "name": "stdout",
     "output_type": "stream",
     "text": [
      "Get descriptors 0.18868494033813477\n",
      "remove_key 0.01235651969909668\n",
      "Commit transaction 0.07212114334106445\n",
      "[E:.b.E:B:.- E:S:. (E:.-wa.-t.o.-' E:.-'wu.-S:.-'t.o.-',)(u.A:.-) > ! E:.n.- (E:.wo.- E:S:.-d.u.-')(l.-T:.U:.-',n.-T:.A:.-',t.o.-f.o.-',_) > E:.n.- E:U:. () > E:.t.- (E:.wo.- E:S:.-d.u.-')(p.E:S:B:.-) > E:.l.- (E:.wo.- E:.-U:.d.-l.-' E:S:.-d.u.-')(n.-T:.U:.-') > E:.f.- (E:.wo.- E:S:.-d.u.-')(n.i.-d.i.-t.u.-')]\n"
     ]
    },
    {
     "name": "stderr",
     "output_type": "stream",
     "text": [
      "\r",
      "139it [00:43,  3.22it/s]"
     ]
    },
    {
     "name": "stdout",
     "output_type": "stream",
     "text": [
      "Get descriptors 0.18187904357910156\n",
      "remove_key 0.0062215328216552734\n",
      "Commit transaction 0.06754803657531738\n",
      "[E:.b.E:B:.- E:S:. (E:.-wa.-t.o.-' E:.-'wu.-S:.-'t.o.-',)(u.A:.-) > ! E:.n.- (E:.wo.- E:S:.-d.u.-')(l.-T:.U:.-',n.-T:.A:.-',t.o.-f.o.-',_) > E:.n.- E:U:. () > E:.t.- (E:.wo.- E:S:.-d.u.-')(S:.E:A:S:.-) > E:.l.- (E:.wo.- E:.-U:.d.-l.-' E:S:.-d.u.-')(n.-T:.U:.-') > E:.f.- (E:.wo.- E:S:.-d.u.-')(n.i.-d.i.-t.u.-')]\n"
     ]
    },
    {
     "name": "stderr",
     "output_type": "stream",
     "text": [
      "\r",
      "140it [00:43,  3.22it/s]"
     ]
    },
    {
     "name": "stdout",
     "output_type": "stream",
     "text": [
      "Get descriptors 0.19156336784362793\n",
      "remove_key 0.011445045471191406\n",
      "remove_key 0.00927114486694336\n",
      "remove_key 0.03252911567687988\n",
      "Commit transaction 0.06888484954833984\n",
      "[E:.b.E:B:.- E:S:. (E:.-wa.-t.o.-' E:.-'wu.-S:.-'t.o.-',)(u.A:.-) > ! E:.n.- (E:.wo.- E:S:.-d.u.-')(l.-T:.U:.-',n.-T:.A:.-',t.o.-f.o.-',_) > E:.n.- E:U:. () > E:.t.- (E:.wo.- E:S:.-d.u.-')(S:.E:A:T:.-) > E:.l.- (E:.wo.- E:.-U:.d.-l.-' E:S:.-d.u.-')(n.-T:.U:.-') > E:.f.- (E:.wo.- E:S:.-d.u.-')(n.i.-d.i.-t.u.-')]\n"
     ]
    },
    {
     "name": "stderr",
     "output_type": "stream",
     "text": [
      "\r",
      "141it [00:43,  3.22it/s]"
     ]
    },
    {
     "name": "stdout",
     "output_type": "stream",
     "text": [
      "Get descriptors 0.16263127326965332\n",
      "remove_key 0.012870311737060547\n",
      "remove_key 0.009474754333496094\n",
      "remove_key 0.0347132682800293\n",
      "Commit transaction 0.06850028038024902\n",
      "[E:.b.E:B:.- E:S:. (E:.-wa.-t.o.-' E:.-'wu.-S:.-'t.o.-',)(u.A:.-) > ! E:.n.- (E:.wo.- E:S:.-d.u.-')(l.-T:.U:.-',n.-T:.A:.-',t.o.-f.o.-',_) > E:.n.- E:U:. () > E:.t.- (E:.wo.- E:S:.-d.u.-')(p.E:S:B:.-) > E:.l.- (E:.wo.- E:.-U:.d.-l.-' E:S:.-d.u.-')(n.-T:.U:.-') > E:.f.- (E:.wo.- E:S:.-d.u.-')(n.i.-d.i.-t.u.-')]\n"
     ]
    },
    {
     "name": "stderr",
     "output_type": "stream",
     "text": [
      "\r",
      "142it [00:44,  3.22it/s]"
     ]
    },
    {
     "name": "stdout",
     "output_type": "stream",
     "text": [
      "Get descriptors 0.18201065063476562\n",
      "remove_key 0.009101390838623047\n",
      "remove_key 0.009772062301635742\n",
      "remove_key 0.03153562545776367\n",
      "Commit transaction 0.06704020500183105\n",
      "[E:.b.E:B:.- E:S:. (E:.-wa.-t.o.-' E:.-'wu.-S:.-'t.o.-',)(u.A:.-) > ! E:.n.- (E:.wo.- E:S:.-d.u.-')(l.-T:.U:.-',n.-T:.A:.-',t.o.-f.o.-',_) > E:.l.- (E:.wo.- E:.-U:.d.-l.-' E:S:.-d.u.-')(n.-T:.U:.-') > E:.f.- (E:.wo.- E:S:.-d.u.-')(n.i.-d.i.-t.u.-') > E:.s.- (E:.wo.- E:T:.h.- E:S:.-d.u.-')(s.j.- d.-S:.U:.-')]\n"
     ]
    },
    {
     "name": "stderr",
     "output_type": "stream",
     "text": [
      "\r",
      "143it [00:44,  3.22it/s]"
     ]
    },
    {
     "name": "stdout",
     "output_type": "stream",
     "text": [
      "Get descriptors 0.17180323600769043\n",
      "remove_key 0.011944055557250977\n",
      "Commit transaction 0.07180023193359375\n",
      "[E:.b.E:B:.- E:S:. (E:.-wa.-t.o.-' E:.-'wu.-S:.-'t.o.-',)(u.A:.-) > ! E:.n.- (E:.wo.- E:S:.-d.u.-')(l.-T:.U:.-',n.-T:.A:.-',t.o.-f.o.-',_) > E:.n.- E:U:. () > E:.l.- (E:.wo.- E:.-U:.d.-l.-' E:S:.-d.u.-')(n.-T:.U:.-') > E:.f.- (E:.wo.- E:S:.-d.u.-')(n.i.-d.i.-t.u.-') > E:.s.- (E:.wo.- E:T:.h.- E:S:.-d.u.-')(s.j.- d.-S:.U:.-')]\n"
     ]
    },
    {
     "name": "stderr",
     "output_type": "stream",
     "text": [
      "\r",
      "144it [00:44,  3.22it/s]"
     ]
    },
    {
     "name": "stdout",
     "output_type": "stream",
     "text": [
      "Get descriptors 0.17426729202270508\n",
      "remove_key 0.01205134391784668\n",
      "Commit transaction 0.06661248207092285\n"
     ]
    },
    {
     "name": "stderr",
     "output_type": "stream",
     "text": [
      "\n"
     ]
    }
   ],
   "source": [
    "FILE=\"/home/louis/code/ieml/project/ieml/ieml/test/words_example_corrected_translated3.txt\"\n",
    "\n",
    "import re\n",
    "from tqdm import tqdm\n",
    "\n",
    "spliter = re.compile(r'^(\\[.*\\])\\s*#\\s*fr:\\s*(.*)\\s*\\|\\s*en:\\s*(.*)\\s*$')\n",
    "\n",
    "# git.reset()\n",
    "\n",
    "with open(FILE) as fp:\n",
    "    for l in tqdm(fp):\n",
    "        match = spliter.match(l)\n",
    "        if not match:\n",
    "            continue\n",
    "        ieml, trans_fr, trans_en = match.groups()\n",
    "        print(ieml)\n",
    "        add_word(parser.parse(ieml), [f.strip() for f in trans_fr.split(',')], [f.strip() for f in trans_en.split(',')])\n",
    "\n",
    "        "
   ]
  },
  {
   "cell_type": "code",
   "execution_count": 7,
   "metadata": {},
   "outputs": [
    {
     "ename": "UnboundLocalError",
     "evalue": "local variable 'l' referenced before assignment",
     "output_type": "error",
     "traceback": [
      "\u001b[0;31m---------------------------------------------------------------------------\u001b[0m",
      "\u001b[0;31mUnboundLocalError\u001b[0m                         Traceback (most recent call last)",
      "\u001b[0;32m<ipython-input-7-4113f372cf17>\u001b[0m in \u001b[0;36m<module>\u001b[0;34m()\u001b[0m\n\u001b[1;32m      1\u001b[0m \u001b[0mold_commit\u001b[0m \u001b[0;34m=\u001b[0m \u001b[0;34m'f6bd68e88d924ca81a910ac6a02ea83e0e9dac95'\u001b[0m\u001b[0;34m\u001b[0m\u001b[0;34m\u001b[0m\u001b[0m\n\u001b[0;32m----> 2\u001b[0;31m \u001b[0mdiff\u001b[0m \u001b[0;34m=\u001b[0m \u001b[0mgit\u001b[0m\u001b[0;34m.\u001b[0m\u001b[0mdiff\u001b[0m\u001b[0;34m(\u001b[0m\u001b[0mcommit\u001b[0m\u001b[0;34m,\u001b[0m \u001b[0mold_commit\u001b[0m\u001b[0;34m)\u001b[0m\u001b[0;34m\u001b[0m\u001b[0;34m\u001b[0m\u001b[0m\n\u001b[0m\u001b[1;32m      3\u001b[0m \u001b[0mlist\u001b[0m\u001b[0;34m(\u001b[0m\u001b[0mdiff\u001b[0m\u001b[0;34m.\u001b[0m\u001b[0mvalues\u001b[0m\u001b[0;34m(\u001b[0m\u001b[0;34m)\u001b[0m\u001b[0;34m)\u001b[0m\u001b[0;34m\u001b[0m\u001b[0;34m\u001b[0m\u001b[0m\n",
      "\u001b[0;32m~/code/ieml/project/ieml/ieml/ieml_database/git_interface.py\u001b[0m in \u001b[0;36mdiff\u001b[0;34m(self, commit0, commit1)\u001b[0m\n\u001b[1;32m    335\u001b[0m \u001b[0;34m\u001b[0m\u001b[0m\n\u001b[1;32m    336\u001b[0m             res[line] = {\n\u001b[0;32m--> 337\u001b[0;31m                 \u001b[0;34m'ieml'\u001b[0m\u001b[0;34m:\u001b[0m \u001b[0ml\u001b[0m\u001b[0;34m.\u001b[0m\u001b[0mcontent\u001b[0m\u001b[0;34m.\u001b[0m\u001b[0msplit\u001b[0m\u001b[0;34m(\u001b[0m\u001b[0;34m'\"'\u001b[0m\u001b[0;34m)\u001b[0m\u001b[0;34m[\u001b[0m\u001b[0;36m1\u001b[0m\u001b[0;34m]\u001b[0m\u001b[0;34m,\u001b[0m\u001b[0;34m\u001b[0m\u001b[0;34m\u001b[0m\u001b[0m\n\u001b[0m\u001b[1;32m    338\u001b[0m                 \u001b[0;34m'added'\u001b[0m\u001b[0;34m:\u001b[0m \u001b[0madded\u001b[0m\u001b[0;34m,\u001b[0m\u001b[0;34m\u001b[0m\u001b[0;34m\u001b[0m\u001b[0m\n\u001b[1;32m    339\u001b[0m                 \u001b[0;34m'deleted'\u001b[0m\u001b[0;34m:\u001b[0m \u001b[0mdeleted\u001b[0m\u001b[0;34m,\u001b[0m\u001b[0;34m\u001b[0m\u001b[0;34m\u001b[0m\u001b[0m\n",
      "\u001b[0;31mUnboundLocalError\u001b[0m: local variable 'l' referenced before assignment"
     ]
    }
   ],
   "source": [
    "old_commit = 'f6bd68e88d924ca81a910ac6a02ea83e0e9dac95'\n",
    "diff = git.diff(commit, old_commit)\n",
    "list(diff.values())\n"
   ]
  },
  {
   "cell_type": "code",
   "execution_count": null,
   "metadata": {
    "scrolled": false
   },
   "outputs": [],
   "source": [
    "def diff(self, commit0, commit1):\n",
    "    t0 = self.repo.revparse_single(str(commit0))\n",
    "    t1 = self.repo.revparse_single(str(commit1))\n",
    "\n",
    "    res = {}\n",
    "    for patch in self.repo.diff(t0, t1):\n",
    "        # per file\n",
    "        #         print(patch.text)\n",
    "        added = []\n",
    "        deleted = []\n",
    "\n",
    "        line = patch.delta.new_file.path\n",
    "        \n",
    "        for h in patch.hunks:\n",
    "            for l in h.lines:\n",
    "                if l.new_lineno == -1:\n",
    "                    deleted.append(l.content)\n",
    "                elif l.old_lineno == -1:\n",
    "                    added.append(l.content)\n",
    "\n",
    "        res[line] = {\n",
    "            'ieml': l.content.split('\"')[1],\n",
    "            'added': added,\n",
    "            'deleted': deleted,\n",
    "            'is_new': patch.delta.old_file.mode == 0,\n",
    "            'is_removed': patch.delta.new_file.mode == 0,\n",
    "        }\n",
    "\n",
    "    return res\n",
    "old_commit = 'ae37ce19155b38c0684b9b39505d9293204b35c8'\n",
    "diff = diff(git, commit, old_commit)\n",
    "list(diff.values())\n"
   ]
  },
  {
   "cell_type": "code",
   "execution_count": null,
   "metadata": {},
   "outputs": [],
   "source": []
  },
  {
   "cell_type": "code",
   "execution_count": null,
   "metadata": {},
   "outputs": [],
   "source": []
  }
 ],
 "metadata": {
  "kernelspec": {
   "display_name": "Python 3",
   "language": "python",
   "name": "python3"
  },
  "language_info": {
   "codemirror_mode": {
    "name": "ipython",
    "version": 3
   },
   "file_extension": ".py",
   "mimetype": "text/x-python",
   "name": "python",
   "nbconvert_exporter": "python",
   "pygments_lexer": "ipython3",
   "version": "3.6.7"
  }
 },
 "nbformat": 4,
 "nbformat_minor": 2
}
