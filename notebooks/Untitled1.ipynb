{
 "cells": [
  {
   "cell_type": "code",
   "execution_count": 1,
   "metadata": {},
   "outputs": [],
   "source": [
    "import sys\n",
    "\n",
    "sys.path.insert(0, '..')\n",
    "import ieml"
   ]
  },
  {
   "cell_type": "code",
   "execution_count": 6,
   "metadata": {},
   "outputs": [
    {
     "ename": "SyntaxError",
     "evalue": "invalid syntax (<ipython-input-6-61c37d043244>, line 3)",
     "output_type": "error",
     "traceback": [
      "\u001b[0;36m  File \u001b[0;32m\"<ipython-input-6-61c37d043244>\"\u001b[0;36m, line \u001b[0;32m3\u001b[0m\n\u001b[0;31m    $$a$$\u001b[0m\n\u001b[0m    ^\u001b[0m\n\u001b[0;31mSyntaxError\u001b[0m\u001b[0;31m:\u001b[0m invalid syntax\n"
     ]
    }
   ],
   "source": [
    "from ieml.usl.usl import usl\n",
    "\n",
    "u = usl(\"[! E:S:. (E:.-wa.-t.o.-' E:S:.-t.o.-' E:.-'wu.-S:.-'t.o.-',)(u.A:.-) > E:.s.- (E:.wo.- E:T:.x.- E:S:.-d.u.-')(b.i.-n.i.-'l.i.-f.i.-'n.-B:.U:.-',) > E:.f.- (E:.wo.- E:S:.-d.u.-')(l.o.-m.o.-s.u.-') > E:.l.- (E:.wo.- E:.-U:.d.-l.-' E:S:.-d.u.-')(l.-y.-'E:U:.n.-l.-'E:U:.s.-l.-',)]\")"
   ]
  },
  {
   "cell_type": "markdown",
   "metadata": {},
   "source": [
    "%%latex\n"
   ]
  },
  {
   "cell_type": "code",
   "execution_count": null,
   "metadata": {},
   "outputs": [],
   "source": []
  }
 ],
 "metadata": {
  "kernelspec": {
   "display_name": "Python 3",
   "language": "python",
   "name": "python3"
  },
  "language_info": {
   "codemirror_mode": {
    "name": "ipython",
    "version": 3
   },
   "file_extension": ".py",
   "mimetype": "text/x-python",
   "name": "python",
   "nbconvert_exporter": "python",
   "pygments_lexer": "ipython3",
   "version": "3.6.7"
  }
 },
 "nbformat": 4,
 "nbformat_minor": 2
}
