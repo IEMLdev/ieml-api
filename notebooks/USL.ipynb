{
 "cells": [
  {
   "cell_type": "code",
   "execution_count": 2,
   "metadata": {},
   "outputs": [],
   "source": [
    "# add ieml library to kernel path\n",
    "import sys\n",
    "sys.path.insert(0, '..')"
   ]
  },
  {
   "cell_type": "markdown",
   "metadata": {},
   "source": [
    "The ieml library exposes a parser (ieml.usl.parser) that parses ieml strings (including older versions) and return a normalised ieml.usl.USL object or a ieml.dictionary.Script (a morpheme). For the moment only ieml.usl.Word are valid ieml.usl.USL.\n",
    "\n",
    "The ieml.usl.USL can be checked for coherancy with ieml.usl.USL.check(). That feature should be added in a strict mode for the parser."
   ]
  },
  {
   "cell_type": "code",
   "execution_count": 3,
   "metadata": {},
   "outputs": [
    {
     "name": "stderr",
     "output_type": "stream",
     "text": [
      "Matplotlib is building the font cache using fc-list. This may take a moment.\n",
      "WARNING:root:1 reduce/reduce conflict\n",
      "WARNING:root:reduce/reduce conflict in state 2 resolved using rule (proposition -> morpheme)\n",
      "WARNING:root:rejected rule (morpheme_sum -> morpheme) in state 2\n"
     ]
    },
    {
     "name": "stdout",
     "output_type": "stream",
     "text": [
      "[E:S:. (E:.-wa.-t.o.-' E:.-'wu.-S:.-'t.o.-',)(a.T:.-) > ! E:.l.- (E:.wo.- E:S:.-d.u.-')]\n",
      "[E:S:. (E:.-wa.-t.o.-' E:.-'wu.-S:.-'t.o.-',)(a.T:.-) > ! E:.l.- (E:.wo.- E:S:.-d.u.-')]\n"
     ]
    }
   ],
   "source": [
    "from ieml.usl.usl import usl\n",
    "u = usl(\"[E:.b.E:B:.- E:S:. (E:.-wa.-t.o.-' E:.-'wu.-S:.-'t.o.-',)(a.T:.-) > ! E:.l.- (E:.wo.- E:S:.-d.u.-')]\")\n",
    "u.check()\n",
    "print(u)\n",
    "u1 = usl(\"[E:.b.E:B:.- E:S:. (E:.-'wu.-S:.-'t.o.-', E:.-wa.-t.o.-' )(a.T:.-) > ! E:.l.- (E:.wo.- E:S:.-d.u.-')]\")\n",
    "u1.check()\n",
    "print(u1)\n",
    "assert u1 == u"
   ]
  },
  {
   "cell_type": "markdown",
   "metadata": {},
   "source": [
    "The ieml lexicons are stored on github, they have to be downloaded first"
   ]
  },
  {
   "cell_type": "code",
   "execution_count": 4,
   "metadata": {},
   "outputs": [
    {
     "name": "stdout",
     "output_type": "stream",
     "text": [
      "<ieml.ieml_database.git_interface.GitInterface object at 0x7f764afeb9b0>\n",
      "<ieml.ieml_database.ieml_database (/u/letardvi/.cache/ieml/1.0.3/e3050257e00f171aa548e17e73fe562e cache=/u/letardvi/.cache/ieml/1.0.3/e3050257e00f171aa548e17e73fe562e)>\n"
     ]
    }
   ],
   "source": [
    "from ieml.ieml_database import GitInterface, IEMLDatabase\n",
    "gitdb = GitInterface()\n",
    "gitdb.pull() # download database in ~/.cache/ieml/ folder\n",
    "print(gitdb)\n",
    "\n",
    "# instanciate a ieml.ieml_database.IEMLDatabase from the downloaded git repository\n",
    "db = IEMLDatabase(folder=gitdb.folder)\n",
    "print(db)\n"
   ]
  },
  {
   "cell_type": "code",
   "execution_count": 8,
   "metadata": {},
   "outputs": [],
   "source": [
    "morphs = db.list(type='morpheme')[:100]"
   ]
  },
  {
   "cell_type": "markdown",
   "metadata": {},
   "source": [
    "The ieml.ieml_database.IEMLDatabase is responsible of reading and writing association between ieml.usl.USL and ieml.dictionary.Script with their translation to disk. The values as stored in rows in one file per USL. The format of the rows are space separated values (ssv like csv or tsv).\n"
   ]
  },
  {
   "cell_type": "code",
   "execution_count": 12,
   "metadata": {},
   "outputs": [
    {
     "data": {
      "text/plain": [
       "{(\"b.i.-n.i.-'t.i.-'+m.i.-f.i.-'+l.i.-E:.-+n.+f.i.-'n.-B:.A:.-',\",\n",
       "  'en',\n",
       "  'translations'): ['metallic vibrator'],\n",
       " (\"b.i.-n.i.-'t.i.-'+m.i.-f.i.-'+l.i.-E:.-+n.+f.i.-'n.-B:.A:.-',\",\n",
       "  'fr',\n",
       "  'translations'): ['vibrateur de métal']}"
      ]
     },
     "execution_count": 12,
     "metadata": {},
     "output_type": "execute_result"
    }
   ],
   "source": [
    "desc = db.get_descriptors()\n",
    "desc.get_values_partial(morphs[0])"
   ]
  },
  {
   "cell_type": "code",
   "execution_count": 5,
   "metadata": {},
   "outputs": [],
   "source": [
    "w = db.list(type='word', parse=True)[1]"
   ]
  },
  {
   "cell_type": "code",
   "execution_count": 6,
   "metadata": {},
   "outputs": [
    {
     "data": {
      "text/plain": [
       "[<ieml.usl.lexeme.Lexeme at 0x7fd42ccb6390>]"
      ]
     },
     "execution_count": 6,
     "metadata": {},
     "output_type": "execute_result"
    }
   ],
   "source": [
    "list(w.iter_structure())"
   ]
  },
  {
   "cell_type": "markdown",
   "metadata": {},
   "source": [
    "# ieml.dictionary.Script\n",
    "\n",
    "The Script is a old name for morphemes. The "
   ]
  },
  {
   "cell_type": "markdown",
   "metadata": {},
   "source": [
    "# Words"
   ]
  },
  {
   "cell_type": "code",
   "execution_count": 4,
   "metadata": {},
   "outputs": [
    {
     "data": {
      "text/plain": [
       "'E:.l.-'"
      ]
     },
     "execution_count": 4,
     "metadata": {},
     "output_type": "execute_result"
    }
   ],
   "source": [
    "# ou se trouve le pointd'exclamation\n",
    "str(u.role)"
   ]
  },
  {
   "cell_type": "code",
   "execution_count": 5,
   "metadata": {},
   "outputs": [
    {
     "name": "stdout",
     "output_type": "stream",
     "text": [
      "E:S:. (E:.-wa.-t.o.-' E:.-'wu.-S:.-'t.o.-',)(a.T:.-)\n",
      "E:.l.- (E:.wo.- E:S:.-d.u.-')\n"
     ]
    }
   ],
   "source": [
    "print('\\n'.join(str(r) + ' ' + str(a.actor) for r, a in u.syntagmatic_fun.actors.items()))"
   ]
  },
  {
   "cell_type": "code",
   "execution_count": 6,
   "metadata": {
    "scrolled": true
   },
   "outputs": [
    {
     "name": "stdout",
     "output_type": "stream",
     "text": [
      "E:S:. process\n",
      "E:T:. process\n",
      "E:B:. process\n",
      "E:.n.- initiator\n",
      "E:.d.- interactant\n",
      "E:.k.- recipient\n",
      "E:.t.- time\n",
      "E:.l.- location\n",
      "E:.m.- intention\n",
      "E:.f.- manner\n",
      "E:.s.- cause\n",
      "E:A:. dependant\n",
      "E:U:. independant\n"
     ]
    }
   ],
   "source": [
    "from ieml.usl.constants import ADDRESS_SCRIPTS,NAMES_TO_ADDRESS \n",
    "\n",
    "# list des roles syntagmatic\n",
    "print('\\n'.join(str(r) + ' ' + NAMES_TO_ADDRESS[r] for r in ADDRESS_SCRIPTS))"
   ]
  },
  {
   "cell_type": "code",
   "execution_count": 11,
   "metadata": {
    "scrolled": false
   },
   "outputs": [
    {
     "data": {
      "text/plain": [
       "{'syntagmatic_function': {'actor': {'ieml': '(wa.)',\n",
       "   'editable': True,\n",
       "   'translations': {'fr': [], 'en': []},\n",
       "   'comments': {'fr': [], 'en': []},\n",
       "   'tags': {'fr': [], 'en': []},\n",
       "   'created': False,\n",
       "   'type': 'lexeme',\n",
       "   'paradigm': False,\n",
       "   'class': 'Auxiliary',\n",
       "   'index': '2000000000000000000000000000000',\n",
       "   'cardinality': 'singular_sequence',\n",
       "   'domains': [],\n",
       "   'singular_sequences': None,\n",
       "   'main_table': None,\n",
       "   'pm_flexion': {'ieml': 'wa.',\n",
       "    'editable': False,\n",
       "    'translations': {'fr': ['agir', 'exercer'], 'en': ['act', 'perform']},\n",
       "    'comments': {'fr': [], 'en': []},\n",
       "    'tags': {'fr': [], 'en': []},\n",
       "    'created': True,\n",
       "    'type': 'morpheme',\n",
       "    'paradigm': False,\n",
       "    'class': 'Verb',\n",
       "    'index': '000000000000000000000000000000f',\n",
       "    'cardinality': 'singular_sequence',\n",
       "    'domains': [],\n",
       "    'singular_sequences': None,\n",
       "    'main_table': 'O:O:.',\n",
       "    'constant': [{'ieml': 'wa.',\n",
       "      'editable': False,\n",
       "      'translations': {'fr': ['agir', 'exercer'], 'en': ['act', 'perform']},\n",
       "      'comments': {'fr': [], 'en': []},\n",
       "      'tags': {'fr': [], 'en': []},\n",
       "      'created': True,\n",
       "      'type': 'morpheme',\n",
       "      'paradigm': False,\n",
       "      'class': 'Verb',\n",
       "      'index': '000000000000000000000000000000f',\n",
       "      'cardinality': 'singular_sequence',\n",
       "      'domains': [],\n",
       "      'singular_sequences': None,\n",
       "      'main_table': 'O:O:.'}],\n",
       "    'groups': [],\n",
       "    'size': 1},\n",
       "   'pm_content': {'ieml': 'E:',\n",
       "    'editable': False,\n",
       "    'translations': {'fr': ['vide', 'monade', 'place syntaxique'],\n",
       "     'en': ['emptiness', 'monad', 'syntactic place']},\n",
       "    'comments': {'fr': ['En IEML, tous les auxiliaires commencent par la lettre *E*.'],\n",
       "     'en': ['In IEML, all auxiliaries begin by the letter *E*.']},\n",
       "    'tags': {'fr': [], 'en': []},\n",
       "    'created': True,\n",
       "    'type': 'morpheme',\n",
       "    'paradigm': False,\n",
       "    'class': 'Auxiliary',\n",
       "    'index': '0000000000000000000000000000000',\n",
       "    'cardinality': 'singular_sequence',\n",
       "    'domains': [],\n",
       "    'singular_sequences': None,\n",
       "    'main_table': 'I:',\n",
       "    'constant': [{'ieml': 'E:',\n",
       "      'editable': False,\n",
       "      'translations': {'fr': ['vide', 'monade', 'place syntaxique'],\n",
       "       'en': ['emptiness', 'monad', 'syntactic place']},\n",
       "      'comments': {'fr': ['En IEML, tous les auxiliaires commencent par la lettre *E*.'],\n",
       "       'en': ['In IEML, all auxiliaries begin by the letter *E*.']},\n",
       "      'tags': {'fr': [], 'en': []},\n",
       "      'created': True,\n",
       "      'type': 'morpheme',\n",
       "      'paradigm': False,\n",
       "      'class': 'Auxiliary',\n",
       "      'index': '0000000000000000000000000000000',\n",
       "      'cardinality': 'singular_sequence',\n",
       "      'domains': [],\n",
       "      'singular_sequences': None,\n",
       "      'main_table': 'I:'}],\n",
       "    'groups': [],\n",
       "    'size': 1}},\n",
       "  'lexemes': [{'ieml': '(wa.)',\n",
       "    'editable': True,\n",
       "    'translations': {'fr': [], 'en': []},\n",
       "    'comments': {'fr': [], 'en': []},\n",
       "    'tags': {'fr': [], 'en': []},\n",
       "    'created': False,\n",
       "    'type': 'lexeme',\n",
       "    'paradigm': False,\n",
       "    'class': 'Auxiliary',\n",
       "    'index': '2000000000000000000000000000000',\n",
       "    'cardinality': 'singular_sequence',\n",
       "    'domains': [],\n",
       "    'singular_sequences': None,\n",
       "    'main_table': None,\n",
       "    'pm_flexion': {'ieml': 'wa.',\n",
       "     'editable': False,\n",
       "     'translations': {'fr': ['agir', 'exercer'], 'en': ['act', 'perform']},\n",
       "     'comments': {'fr': [], 'en': []},\n",
       "     'tags': {'fr': [], 'en': []},\n",
       "     'created': True,\n",
       "     'type': 'morpheme',\n",
       "     'paradigm': False,\n",
       "     'class': 'Verb',\n",
       "     'index': '000000000000000000000000000000f',\n",
       "     'cardinality': 'singular_sequence',\n",
       "     'domains': [],\n",
       "     'singular_sequences': None,\n",
       "     'main_table': 'O:O:.',\n",
       "     'constant': [{'ieml': 'wa.',\n",
       "       'editable': False,\n",
       "       'translations': {'fr': ['agir', 'exercer'], 'en': ['act', 'perform']},\n",
       "       'comments': {'fr': [], 'en': []},\n",
       "       'tags': {'fr': [], 'en': []},\n",
       "       'created': True,\n",
       "       'type': 'morpheme',\n",
       "       'paradigm': False,\n",
       "       'class': 'Verb',\n",
       "       'index': '000000000000000000000000000000f',\n",
       "       'cardinality': 'singular_sequence',\n",
       "       'domains': [],\n",
       "       'singular_sequences': None,\n",
       "       'main_table': 'O:O:.'}],\n",
       "     'groups': [],\n",
       "     'size': 1},\n",
       "    'pm_content': {'ieml': 'E:',\n",
       "     'editable': False,\n",
       "     'translations': {'fr': ['vide', 'monade', 'place syntaxique'],\n",
       "      'en': ['emptiness', 'monad', 'syntactic place']},\n",
       "     'comments': {'fr': ['En IEML, tous les auxiliaires commencent par la lettre *E*.'],\n",
       "      'en': ['In IEML, all auxiliaries begin by the letter *E*.']},\n",
       "     'tags': {'fr': [], 'en': []},\n",
       "     'created': True,\n",
       "     'type': 'morpheme',\n",
       "     'paradigm': False,\n",
       "     'class': 'Auxiliary',\n",
       "     'index': '0000000000000000000000000000000',\n",
       "     'cardinality': 'singular_sequence',\n",
       "     'domains': [],\n",
       "     'singular_sequences': None,\n",
       "     'main_table': 'I:',\n",
       "     'constant': [{'ieml': 'E:',\n",
       "       'editable': False,\n",
       "       'translations': {'fr': ['vide', 'monade', 'place syntaxique'],\n",
       "        'en': ['emptiness', 'monad', 'syntactic place']},\n",
       "       'comments': {'fr': ['En IEML, tous les auxiliaires commencent par la lettre *E*.'],\n",
       "        'en': ['In IEML, all auxiliaries begin by the letter *E*.']},\n",
       "       'tags': {'fr': [], 'en': []},\n",
       "       'created': True,\n",
       "       'type': 'morpheme',\n",
       "       'paradigm': False,\n",
       "       'class': 'Auxiliary',\n",
       "       'index': '0000000000000000000000000000000',\n",
       "       'cardinality': 'singular_sequence',\n",
       "       'domains': [],\n",
       "       'singular_sequences': None,\n",
       "       'main_table': 'I:'}],\n",
       "     'groups': [],\n",
       "     'size': 1}}],\n",
       "  'type': 'DependantQualitySyntagmaticFunction',\n",
       "  'role': 'dependant',\n",
       "  'role_full': ['dependant'],\n",
       "  'independant': None,\n",
       "  'dependant': None},\n",
       " 'role': ['dependant'],\n",
       " 'ieml': '[! E:A:.  (wa.)]',\n",
       " 'editable': True,\n",
       " 'translations': {'fr': [], 'en': []},\n",
       " 'comments': {'fr': [], 'en': []},\n",
       " 'tags': {'fr': [], 'en': []},\n",
       " 'created': False,\n",
       " 'type': 'word',\n",
       " 'paradigm': False,\n",
       " 'class': 'Noun',\n",
       " 'index': '3000000000000000000000000000000',\n",
       " 'cardinality': 'singular_sequence',\n",
       " 'domains': [],\n",
       " 'singular_sequences': None,\n",
       " 'main_table': None}"
      ]
     },
     "execution_count": 11,
     "metadata": {},
     "output_type": "execute_result"
    }
   ],
   "source": [
    "from requests import get\n",
    "\n",
    "from ieml.dictionary.script import Script\n",
    "from ieml.usl.word import Word\n",
    "from ieml.usl.usl import usl\n",
    "\n",
    "def get_word_structure(w: Word):\n",
    "    return get(\"https://dev.intlekt.io/api/words/{}/?repository=IEMLdev\".format(str(w))).json()\n",
    "\n",
    "def get_usl_structure(m: Script):\n",
    "    return get(\"https://dev.intlekt.io/api/usls/{}/?repository=IEMLdev\".format(str(m))).json()\n",
    "\n",
    "\n",
    "\n",
    "\"\"\"\n",
    "The structure for any Ieml is :\n",
    "IemlEntry = { \n",
    "    'ieml': string,\n",
    "    \n",
    "    'cardinality': 'singular_sequence' | 'paradigm' | 'root_paradigm',\n",
    "    'class': 'Noun'|'Verb'|'Auxialiary',\n",
    "    'type': 'word' | 'morpheme' | 'polymorpheme' | 'lexeme',\n",
    "    \n",
    "    'comments': {'en': [], 'fr': []},\n",
    "    'tags': {'en': [], 'fr': []},\n",
    "    'translations': {'en': [], 'fr': []},\n",
    "    \n",
    "    'created': True|False, # if exists in db, equivalent of 'comments', 'tags' or'translations'  at a least one value\n",
    "    'editable': True|False, # if exists in db and not in the main db or doesn't exists in db\n",
    "    'domains': [],\n",
    "    \n",
    "    'index': string, # string value to order the usls from each other\n",
    "    'main_table': None, # main table for morpheme\n",
    "    'paradigm': True|False, # is a paradigm ?\n",
    "    \n",
    "    'singular_sequences': None|IemlEntry[], # if not a paradigm, None, otherwise the list of the singular sequences (the cells of the table)\n",
    "}\n",
    "\n",
    "For Words, we had the following entries :\n",
    "WordsEntry = IemlEntry + {\n",
    "    'role': string[], # the tree address where to put the '!'\n",
    "    'syntagmatic_function': SyntagmaticFunctionEntry # the tree\n",
    "}\n",
    "\n",
    "LexemeEntry = IemlEntry + {\n",
    "    'pm_content': PolyMorphemeEntry,\n",
    "    'pm_flexion': PolyMorphemeEntry\n",
    "}\n",
    "\n",
    "PolyMorphemeEntry = IemlEntry + {\n",
    "    'constant': MorphemeEntry[], # the constant of the polymorphemes\n",
    "    'groups': (MorphemeEntry, 0|1|2)[], # the variables with theirs multiplicities.\n",
    "}\n",
    "\n",
    "MorphemeEntry = IemlEntry\n",
    "\n",
    "\n",
    "The tree structure : a tree of subtype of SyntagmaticFunctionEntry. The nodes are accessed with the actor property.\n",
    "\n",
    "\n",
    "SyntagmaticFunctionEntry = {\n",
    "    'actor': LexemeEntry, # the lexeme at this node in the tree\n",
    "    \n",
    "    'role_full': string[], # the address of thisnode in the tree\n",
    "    'role': string, # the last value of the address (role_full[-1])\n",
    "    \n",
    "    'type': 'ProcessSyntagmaticFunction'| 'DependantQualitySyntagmaticFunction'|'IndependantQualitySyntagmaticFunction', \n",
    "    # There is 3 types of syntagmatic functions, process for verbal frames, dependant for actants (nouns) and independant for adjectives.\n",
    "}\n",
    " \n",
    "ProcessSyntagmaticFunctionEntry = SyntagmaticFunctionEntry + {\n",
    "    'valence': 1|2|3,\n",
    "    'initiator': DependantQualitySyntagmaticFunctionEntry,\n",
    "    'recipient': DependantQualitySyntagmaticFunctionEntry, # always None is valence < 2\n",
    "    'interactant': DependantQualitySyntagmaticFunctionEntry, # always None is valence < 3\n",
    "    \n",
    "    'cause': DependantQualitySyntagmaticFunctionEntry,\n",
    "    'intention': DependantQualitySyntagmaticFunctionEntry,\n",
    "    'manner': DependantQualitySyntagmaticFunctionEntry,\n",
    "    'time': DependantQualitySyntagmaticFunctionEntry,\n",
    "    'location': DependantQualitySyntagmaticFunctionEntry,\n",
    "}\n",
    "\n",
    "DependantQualitySyntagmaticFunctionEntry = SyntagmaticFunctionEntry + {\n",
    "    'independant': IndependantQualitySyntagmaticFunction,\n",
    "    'dependant': DependantQualitySyntagmaticFunctionEntry\n",
    "}\n",
    "\n",
    "IndependantQualitySyntagmaticFunction = SyntagmaticFunctionEntry\n",
    "\n",
    "\n",
    "\"\"\"\n",
    "\n",
    "\n",
    "\n",
    "get_word_structure(usl(\"[! E:A:. (wa.)]\"))\n",
    "# get_usl_structure(\"E:\")"
   ]
  },
  {
   "cell_type": "code",
   "execution_count": 5,
   "metadata": {},
   "outputs": [
    {
     "data": {
      "text/plain": [
       "[\"[E:A:.  (E:.wo.- E:.-n.S:.-' E:S:.-d.u.-')(b.a.- b.o.-n.o.-s.u.-' f.a.-b.a.-f.o.-') > ! E:A:. E:U:. () > E:A:. E:A:. (E:.wo.- E:S:.-d.u.-')(n.-S:.U:.-'B:.-'B:.-',B:.-',B:.-',_ n.-S:.U:.-'B:.-'B:.-',T:.-',S:.-',_)]\",\n",
       " \"[E:S:. (E:.-wa.-t.o.-' E:.-'wu.-S:.-'t.o.-',)(u.A:.-) > E:.t.- (E:.wo.- E:S:.-d.u.-')(S:.E:A:T:.-) > ! E:.n.- (E:.wo.- E:S:.-d.u.-')(l.-T:.U:.-',n.-T:.A:.-',t.o.-f.o.-',_) > E:.f.- (E:.wo.- E:S:.-d.u.-')(n.i.-d.i.-t.u.-') > E:.l.- (E:.wo.- E:.-U:.d.-l.-' E:S:.-d.u.-')(n.-T:.U:.-')]\",\n",
       " \"[E:S:. (E:.-wa.-t.o.-' E:.-'wu.-S:.-'t.o.-',)(u.A:.-) > E:.t.- (E:.wo.- E:S:.-d.u.-')(S:.E:A:S:.-) > ! E:.n.- (E:.wo.- E:S:.-d.u.-')(l.-T:.U:.-',n.-T:.A:.-',t.o.-f.o.-',_) > E:.f.- (E:.wo.- E:S:.-d.u.-')(n.i.-d.i.-t.u.-') > E:.l.- (E:.wo.- E:.-U:.d.-l.-' E:S:.-d.u.-')(n.-T:.U:.-')]\",\n",
       " \"[E:S:. (E:.-wa.-t.o.-' E:.-'wu.-S:.-'t.o.-',)(u.A:.-) > E:.t.- (E:.wo.- E:S:.-d.u.-')(p.E:S:B:.-) > ! E:.n.- (E:.wo.- E:S:.-d.u.-')(l.-T:.U:.-',n.-T:.A:.-',t.o.-f.o.-',_) > E:.f.- (E:.wo.- E:S:.-d.u.-')(n.i.-d.i.-t.u.-') > E:.l.- (E:.wo.- E:.-U:.d.-l.-' E:S:.-d.u.-')(n.-T:.U:.-')]\",\n",
       " \"[E:S:. (E:.-wa.-t.o.-' E:.-'wu.-S:.-'t.o.-',)(u.S:.-) > ! E:.s.- (E:.wa.- E:S:.-d.u.-')(E:T:.x.-)]\",\n",
       " \"[E:S:. (E:.-wa.-t.o.-' E:.-'wu.-S:.-'t.o.-',)(u.A:.-) > E:.s.- (E:.wo.- E:T:.h.- E:S:.-d.u.-')(s.j.- d.-S:.U:.-') > ! E:.n.- (E:.wo.- E:S:.-d.u.-')(l.-T:.U:.-',n.-T:.A:.-',t.o.-f.o.-',_) > E:.f.- (E:.wo.- E:S:.-d.u.-')(n.i.-d.i.-t.u.-') > E:.l.- (E:.wo.- E:.-U:.d.-l.-' E:S:.-d.u.-')(n.-T:.U:.-')]\",\n",
       " \"[E:S:. (E:.-wa.-t.o.-' E:.-'wu.-S:.-'t.o.-',)(u.A:.-) > ! E:.n.- (E:.wo.- E:S:.-d.u.-')(l.-T:.U:.-',n.-T:.A:.-',t.o.-f.o.-',_) > E:.f.- (E:.wo.- E:S:.-d.u.-')(n.i.-d.i.-t.u.-') > E:.l.- (E:.wo.- E:.-U:.d.-l.-' E:S:.-d.u.-')(n.-T:.U:.-')]\",\n",
       " \"[! E:S:. (E:.-wa.-t.o.-' E:.-'wu.-S:.-'t.o.-',)(u.A:.-) > E:.s.- (E:.wo.- E:T:.x.- E:S:.-d.u.-')(B:.B:.n.-k.-u.T:.-') > E:.f.- (E:.wo.- E:S:.-d.u.-')(i.c.-) > E:.l.- (E:.wo.- E:.-U:.s.-l.-' E:S:.-d.u.-')(l.-y.-'E:U:.n.-l.-'E:U:.s.-l.-',)]\",\n",
       " \"[! E:S:. (E:.b.wa.- E:.-wa.-t.o.-' E:.-'wu.-S:.-'t.o.-',)(m.-T:.A:.-'m.-S:.U:.-'E:A:T:.-',)]\",\n",
       " \"[! E:S:. (E:.-wa.-t.o.-' E:T:.-t.o.-' E:.-'wu.-S:.-'t.o.-',)(A:.a.-) > E:.d.- (E:.wo.- E:S:.-d.u.-')(l.j.-)]\",\n",
       " \"[! E:S:. (E:.-wa.-t.o.-' E:.-'wu.-S:.-'t.o.-',)(wo.) > E:.l.- (E:.wo.- E:.-B:.k.-l.-' E:S:.-d.u.-') > E:.l.- E:A:. (E:.wo.- E:S:.-d.u.-')(m.-T:.A:.-'m.-S:.U:.-'E:A:T:.-',)]\",\n",
       " \"[! E:S:. (E:.-wa.-t.o.-' E:.-'wu.-S:.-'t.o.-',)(u.A:.-) > E:.s.- (E:.wo.- E:T:.x.- E:S:.-d.u.-')(n.i.-f.i.-') > E:.f.- (E:.wo.- E:S:.-d.u.-')(i.c.-) > E:.l.- (E:.wo.- E:.-U:.s.-l.-' E:S:.-d.u.-')(l.-y.-'E:U:.n.-l.-'E:U:.s.-l.-',)]\",\n",
       " \"[! E:S:. (E:.-wa.-t.o.-' E:.-'wu.-S:.-'t.o.-',)(u.A:.-) > E:.f.- (E:.wo.- E:S:.-d.u.-')(l.o.-m.o.-s.u.-') > E:.l.- (E:.wo.- E:.-U:.s.-l.-' E:S:.-d.u.-')(n.-T:.U:.-')]\",\n",
       " \"[! E:S:. (E:.-wa.-t.o.-' E:B:.-t.o.-' E:.-'wu.-S:.-'t.o.-',)(e.U:.-)]\",\n",
       " \"[! E:S:. (E:.-wa.-t.o.-' E:.-'we.-S:.-'t.o.-',)(b.-S:.A:.-'T:.-'T:.-',)]\",\n",
       " \"[! E:S:. (E:.b.wa.- E:.-wa.-t.o.-' E:T:.-t.o.-' E:.-'wu.-S:.-'t.o.-',)(m.-B:.A:.-')]\",\n",
       " \"[! E:S:. (E:.b.we.- E:.-wa.-t.o.-' E:S:.-t.o.-' E:.-'wu.-S:.-'t.o.-',)(n.u.-s.u.-')]\",\n",
       " \"[! E:S:. (E:.-wa.-t.o.-' E:B:.-t.o.-' E:.-'wu.-S:.-'t.o.-',)(A:.a.-) > E:.d.- (E:.wo.- E:S:.-d.u.-')(l.j.-)]\",\n",
       " \"[! E:S:. (E:.-wa.-t.o.-' E:S:.-t.o.-' E:.-'wu.-S:.-'t.o.-',)(u.A:.-) > E:.s.- (E:.wo.- E:T:.x.- E:S:.-d.u.-')(b.i.-n.i.-'l.i.-f.i.-'n.-B:.U:.-',) > E:.f.- (E:.wo.- E:S:.-d.u.-')(l.o.-m.o.-s.u.-') > E:.l.- (E:.wo.- E:.-U:.d.-l.-' E:S:.-d.u.-')(l.-y.-'E:U:.n.-l.-'E:U:.s.-l.-',)]\",\n",
       " \"[! E:S:. (E:.-wa.-t.o.-' E:.-'wu.-S:.-'t.o.-',)(we.) > E:.f.- (E:.U:.j.- E:.wo.- E:S:.-d.u.-')]\",\n",
       " \"[! E:S:. (E:.b.wa.- E:.-wa.-t.o.-' E:.-'wu.-S:.-'t.o.-',)(f.o.-d.o.-')]\",\n",
       " \"[! E:S:. (E:.-wa.-t.o.-' E:.-'wu.-S:.-'t.o.-',)(u.A:.-) > E:.l.- (E:.wo.- E:.-A:.d.-l.-' E:S:.-d.u.-')]\",\n",
       " \"[! E:S:. (E:.-wa.-t.o.-' E:T:.-t.o.-' E:.-'wu.-S:.-'t.o.-',)(e.U:.-)]\",\n",
       " \"[! E:S:. (E:S:U:. E:.b.wa.- E:.-wa.-t.o.-' E:.-'wu.-S:.-'t.o.-',)(s.)]\",\n",
       " \"[! E:S:. (E:.-wa.-t.o.-' E:.-'we.-S:.-'t.o.-',)(s.we.-)]\",\n",
       " \"[! E:S:. (E:.-wa.-t.o.-' E:.-'we.-S:.-'t.o.-',)(b.-T:.A:.-')]\",\n",
       " \"[! E:S:. (E:.-wa.-t.o.-' E:.-'wu.-S:.-'t.o.-',)(wa.) > E:.n.- (E:.wo.- E:S:.-d.u.-')(n.i.-s.i.-') > E:.f.- (E:U:S:. E:.wo.- E:S:.-d.u.-')]\",\n",
       " \"[! E:S:. (E:.-wa.-t.o.-' E:S:.-t.o.-' E:.-'wu.-S:.-'t.o.-',)(u.A:.-) > E:.s.- (E:.wo.- E:T:.x.- E:S:.-d.u.-')(t.i.-s.i.-'u.S:.-U:.-'wa.-',) > E:.f.- (E:.U:.j.- E:.wo.- E:S:.-d.u.-')(l.o.-m.o.-s.u.-') > E:.l.- (E:.wo.- E:.-U:.s.-l.-' E:S:.-d.u.-')(n.-T:.U:.-')]\",\n",
       " \"[! E:S:. (E:.-wa.-t.o.-' E:.-'wu.-S:.-'t.o.-',)(wa.wo.t.-) > E:.s.- (E:.wo.- E:T:.c.- E:S:.-d.u.-')(s.c.we.-)]\",\n",
       " \"[! E:S:. (E:.b.o.- E:.-wa.-t.o.-' E:.-'wu.-S:.-'t.o.-',)(wa.we.t.-) > E:.s.- (E:.wo.- E:T:.c.- E:S:.-d.u.-')(m.u.-)]\",\n",
       " \"[! E:S:. (E:.-wa.-t.o.-' E:.-'we.-S:.-'t.o.-',)(b.-S:.A:.-')]\",\n",
       " \"[! E:S:. (E:.-wa.-t.o.-' E:.-'wu.-S:.-'t.o.-',)(u.A:.-) > E:.l.- (E:.wo.- E:.-U:.d.-l.-' E:S:.-d.u.-')]\",\n",
       " \"[! E:S:. (E:.-wa.-t.o.-' E:.-'wu.-S:.-'t.o.-',)(u.A:.-) > E:.l.- (E:.wo.- E:.-A:.s.-l.-' E:S:.-d.u.-')]\",\n",
       " \"[! E:S:. (E:.-wa.-t.o.-' E:.-'we.-S:.-'t.o.-',)(s.c.-)]\",\n",
       " \"[! E:S:. (E:.-wa.-t.o.-' E:S:.-t.o.-' E:.-'wu.-S:.-'t.o.-',)(u.A:.-) > E:.s.- (E:.wo.- E:T:.x.- E:S:.-d.u.-')(n.i.-f.i.-') > E:.f.- (E:.wo.- E:S:.-d.u.-')(l.o.-m.o.-s.u.-') > E:.l.- (E:.wo.- E:.-U:.d.-l.-' E:S:.-d.u.-')(n.-T:.A:.-')]\",\n",
       " \"[! E:S:. (E:.-wa.-t.o.-' E:.-'we.-S:.-'t.o.-',)(l.-T:.U:.-',n.-T:.A:.-',t.o.-f.o.-',_)]\",\n",
       " \"[! E:S:. (E:.-wa.-t.o.-' E:.-'we.-S:.-'t.o.-',)(E:S:.h.-)]\",\n",
       " \"[! E:S:. (E:.-wa.-t.o.-' E:.-'wu.-S:.-'t.o.-',)(i.S:.-)]\",\n",
       " \"[! E:S:. (E:.-wa.-t.o.-' E:S:.-t.o.-' E:.-'wu.-S:.-'t.o.-',)(u.A:.-) > E:.s.- (E:.wo.- E:T:.x.- E:S:.-d.u.-')(n.i.-f.i.-') > E:.f.- (E:.wo.- E:S:.-d.u.-')(n.i.-d.i.-t.u.-') > E:.l.- (E:.wo.- E:.-U:.d.-l.-' E:S:.-d.u.-')(n.-T:.U:.-')]\",\n",
       " \"[! E:S:. (E:.-wa.-t.o.-' E:.-'wu.-S:.-'t.o.-',)(u.A:.-) > E:.l.- (E:.wo.- E:.-U:.s.-l.-' E:S:.-d.u.-')]\",\n",
       " \"[! E:S:. (E:.-wa.-t.o.-' E:.-'wu.-S:.-'t.o.-',)(wa.) > E:.n.- (E:.wo.- E:S:.-d.u.-')(n.i.-s.i.-') > E:.f.- (E:.wo.- E:S:.-d.u.-' E:T:.-t.u.-')]\",\n",
       " \"[! E:S:. (E:.-wa.-t.o.-' E:.-'wu.-B:.-'t.o.-',)(a.u.-)]\",\n",
       " \"[! E:S:. (E:.-wa.-t.o.-' E:S:.-t.o.-' E:.-'wu.-S:.-'t.o.-',)(e.U:.-)]\",\n",
       " \"[! E:S:. (E:.-wa.-t.o.-' E:.-'wu.-S:.-'t.o.-',)(m.a.-f.a.-')]\",\n",
       " \"[! E:S:. (E:.-wa.-t.o.-' E:S:.-t.o.-' E:.-'wu.-S:.-'t.o.-',)(u.A:.-) > E:.s.- (E:.wo.- E:T:.x.- E:S:.-d.u.-')(n.i.-f.i.-') > E:.f.- (E:.wo.- E:S:.-d.u.-')(l.o.-m.o.-s.u.-') > E:.l.- (E:.wo.- E:.-U:.d.-l.-' E:S:.-d.u.-')(n.-T:.U:.-')]\",\n",
       " \"[! E:S:. (E:.-wa.-t.o.-' E:.-'wu.-S:.-'t.o.-',)(wo.) > E:.n.- (E:.wo.- E:S:.-d.u.-')(f.i.-k.i.-') > E:.f.- (E:U:S:. E:.wo.- E:S:.-d.u.-')]\",\n",
       " \"[! E:S:. (E:.-wa.-t.o.-' E:S:.-t.o.-' E:.-'wu.-S:.-'t.o.-',)(u.A:.-) > E:.s.- (E:.wo.- E:T:.x.- E:S:.-d.u.-')(n.i.-f.i.-') > E:.f.- (E:.U:.j.- E:.wo.- E:S:.-d.u.-')(l.o.-m.o.-s.u.-') > E:.l.- (E:.wo.- E:.-U:.d.-l.-' E:S:.-d.u.-')(n.-T:.A:.-')]\",\n",
       " \"[! E:S:. (E:.-wa.-t.o.-' E:T:.-t.o.-' E:.-'wu.-S:.-'t.o.-',)(u.A:.-) > E:.s.- (E:.wo.- E:T:.x.- E:S:.-d.u.-')(t.i.-s.i.-'u.S:.-U:.-'wa.-',) > E:.f.- (E:.U:.j.- E:.wo.- E:S:.-d.u.-')(l.o.-m.o.-s.u.-') > E:.l.- (E:.wo.- E:.-U:.d.-l.-' E:S:.-d.u.-')(n.-T:.U:.-')]\",\n",
       " \"[E:B:. (E:.-wa.-t.o.-' E:.-'we.-S:.-'t.o.-',)(i.k.-) > ! E:.k.- (E:.wo.- E:.-n.S:.-' E:S:.-d.u.-')]\",\n",
       " \"[E:B:. (E:.-wa.-t.o.-' E:.-'we.-S:.-'t.o.-',)(i.k.-) > ! E:.k.- (E:.wo.- E:.-n.S:.-' E:S:.-d.u.-')(b.a.-b.a.-f.o.-')]\",\n",
       " \"[E:B:. (E:.-wa.-t.o.-' E:.-'we.-S:.-'t.o.-',)(i.k.-) > ! E:.n.- (E:.wo.- E:.-n.S:.-' E:S:.-d.u.-')(t.a.-b.a.-f.o.-')]\",\n",
       " \"[E:B:. (E:.-wa.-t.o.-' E:.-'we.-S:.-'t.o.-',)(e.i.-) > ! E:.k.- (E:.wo.- E:S:.-d.u.-')]\",\n",
       " \"[E:B:. (E:.-wa.-t.o.-' E:.-'we.-S:.-'t.o.-',)(i.k.-) > E:.k.- (E:.wo.- E:.-n.S:.-' E:S:.-d.u.-')(b.a.-b.a.-f.o.-') > E:.n.- (E:.wo.- E:.-n.S:.-' E:S:.-d.u.-')(t.a.-b.a.-f.o.-') > ! E:.d.- (E:.wo.- E:.-n.E:U:.-' E:S:.-d.u.-')(t.e.-n.u.-')]\",\n",
       " \"[E:B:. (E:.-wa.-t.o.-' E:.-'we.-S:.-'t.o.-',)(e.i.-) > ! E:.n.- (E:.wo.- E:S:.-d.u.-')]\",\n",
       " \"[E:B:. (E:.-wa.-t.o.-' E:.-'we.-S:.-'t.o.-',)(i.k.-) > ! E:.n.- (E:.wo.- E:.-n.S:.-' E:S:.-d.u.-')]\",\n",
       " \"[E:B:. (E:.-wa.-t.o.-' E:.-'we.-S:.-'t.o.-',)(i.k.-) > ! E:.d.- (E:.wo.- E:.-n.E:U:.-' E:S:.-d.u.-')(t.e.-n.u.-')]\",\n",
       " \"[E:B:. (E:.-wa.-t.o.-' E:.-'we.-S:.-'t.o.-',)(i.k.-) > ! E:.d.- (E:.wo.- E:S:.-d.u.-')]\",\n",
       " \"[E:B:. (E:.-wa.-t.o.-' E:.-'wu.-S:.-'t.o.-',)(e.) > ! E:.n.- (E:.wo.- E:S:.-d.u.-') > E:.d.- (E:.wo.- E:S:.-d.u.-')(m.-S:.U:.-')]\",\n",
       " \"[! E:B:. (E:.-wa.-t.o.-' E:.-'wu.-S:.-'t.o.-',)(u.a.-) > E:.s.- (E:.wo.- E:T:.c.- E:S:.-d.u.-')(p.we.-)]\",\n",
       " \"[! E:B:. (E:.b.i.- E:.-wa.-t.o.-' E:.-'wu.-S:.-'t.o.-',)(a.T:.-)]\",\n",
       " \"[! E:B:. (E:.b.wa.- E:.-wa.-t.o.-' E:.-'wu.-S:.-'t.o.-',)(we.) > E:.d.- (E:.wo.- E:S:.-d.u.-')(m.-T:.U:.-')]\",\n",
       " \"[! E:B:. (E:.-wa.-t.o.-' E:.-'wu.-S:.-'t.o.-',)(e.c.-) > E:.d.- (E:.wo.- E:S:.-d.u.-')(t.i.-s.i.-')]\",\n",
       " \"[! E:B:. (E:.b.wa.- E:.-wa.-t.o.-' E:.-'wu.-S:.-'t.o.-',)(we.)]\",\n",
       " \"[E:T:. (E:.b.wa.- E:.-wa.-t.o.-' E:.-'we.-S:.-'t.o.-',)(e.) > E:.n.- (E:.wo.- E:S:.-d.u.-') > E:.d.- (E:.wo.- E:S:.-d.u.-')(m.-S:.U:.-') > ! E:.n.- E:U:. ()]\",\n",
       " \"[E:T:. (E:.-wa.-t.o.-' E:.-'wu.-S:.-'t.o.-',)(a.T:.-) > ! E:.l.- (E:.wo.- E:S:.-d.u.-')]\",\n",
       " \"[! E:T:. (E:.-wa.-t.o.-' E:.-'we.-S:.-'t.o.-',)(l.i.-n.i.-')]\",\n",
       " \"[! E:T:. (E:.-wa.-t.o.-' E:.-'wu.-S:.-'t.o.-',)(i.S:.-)]\",\n",
       " \"[! E:T:. (E:.-wo.-t.o.-' E:.-'we.-S:.-'t.o.-',)(t.)]\",\n",
       " \"[! E:T:. (E:.-wa.-t.o.-' E:.-'wu.-S:.-'t.o.-',)(a.T:.-)]\",\n",
       " \"[! E:T:. (E:.-wa.-t.o.-' E:.-'wu.-S:.-'t.o.-',)(i.) > E:.n.- (E:.wo.- E:S:.-d.u.-')(t.i.-s.i.-'u.T:.-U:.-'we.-',B:.-',_B:.-',_;) > E:.f.- (E:U:S:. E:.wo.- E:S:.-d.u.-')]\",\n",
       " \"[! E:T:. (E:.-wa.-t.o.-' E:.-'we.-S:.-'t.o.-',)(a.T:.-) > E:.f.- (E:.wo.- E:S:.-d.u.-')(E:T:.-t.u.-')]\",\n",
       " \"[! E:T:. (E:.-wa.-t.o.-' E:.-'we.-S:.-'t.o.-',)(b.-T:.A:.-')]\",\n",
       " \"[! E:T:. (E:.-wa.-t.o.-' E:.-'wu.-S:.-'t.o.-',)(a.B:.-) > E:.f.- (E:A:S:. E:.wo.- E:S:.-d.u.-')]\",\n",
       " \"[! E:T:. (E:.-wa.-t.o.-' E:.-'we.-S:.-'t.o.-',)(s.a.-d.a.-')]\",\n",
       " \"[! E:T:. (E:.-wa.-t.o.-' E:.-'we.-S:.-'t.o.-',)(t.e.-f.u.-')]\",\n",
       " \"[! E:T:. (E:.-wa.-t.o.-' E:.-'wu.-S:.-'t.o.-',)(wu.f.B:.-) > E:.d.- (E:.wo.- E:S:.-d.u.-')(f.-S:.A:.-')]\",\n",
       " \"[! E:T:. (E:.-wa.-t.o.-' E:.-'we.-S:.-'t.o.-',)(t.)]\",\n",
       " \"[! E:T:. (E:.-wo.-t.o.-' E:.-'we.-S:.-'t.o.-',)(s.a.-d.a.-')]\",\n",
       " \"[! E:T:. (E:.-wa.-t.o.-' E:.-'we.-S:.-'t.o.-',)(b.-S:.A:.-')]\",\n",
       " \"[! E:T:. (E:.b.i.- E:.-wa.-t.o.-' E:.-'we.-S:.-'t.o.-',)(E:S:.h.-)]\",\n",
       " \"[! E:A:.  (E:.wo.- E:S:.-d.u.-')(E:.A:.j.-)]\",\n",
       " \"[! E:A:.  (E:U:A:. E:.wo.- E:S:.-d.u.-')(f.u.-wu.f.U:.-')]\",\n",
       " \"[! E:A:.  (E:.wo.- E:S:.-d.u.-')(k.i.-l.i.-')]\",\n",
       " \"[! E:A:.  (E:U:A:. E:.wo.- E:S:.-d.u.-')(f.u.-wu.f.S:.-')]\",\n",
       " \"[! E:A:.  (E:.wo.- E:S:.-d.u.-')(m.-T:.U:.-') > E:A:. E:U:. (E:B:.-d.u.-')(p.E:A:T:.-)]\",\n",
       " \"[! E:A:.  (E:.wo.- E:S:.-d.u.-')(k.x.-) > E:A:. E:A:. (E:.wo.- E:S:.-d.u.-')(t.i.-s.i.-'u.B:.-U:.-'wa.-',)]\",\n",
       " \"[! E:A:.  (E:.wo.- E:S:.-d.u.-')(E:S:T:.)]\",\n",
       " \"[! E:A:.  (E:U:A:. E:.wo.- E:S:.-d.u.-')(s.e.-k.u.-wa.e.-')]\",\n",
       " \"[! E:A:.  (E:.wo.- E:S:.-d.u.-')(f.i.-b.i.-')]\",\n",
       " \"[! E:A:.  (E:.wo.- E:S:.-d.u.-')(wa.)]\",\n",
       " \"[! E:A:.  (E:.wo.- E:S:.-d.u.-')(b.-S:.A:.-'T:.-'T:.-',)]\",\n",
       " \"[! E:A:.  (E:.wo.- E:S:.-d.u.-')(b.-S:.A:.-'S:.-'S:.-',) > E:A:. E:A:. (E:.wo.- E:S:.-d.u.-')(k.a.-k.a.-')]\",\n",
       " \"[! E:A:.  (E:.wo.- E:S:.-d.u.-')(k.a.-) > E:A:. E:A:. (E:.wo.- E:S:.-d.u.-')(t.i.-s.i.-'u.B:.-U:.-'wa.-',)]\",\n",
       " \"[! E:A:.  (E:.wo.- E:S:.-d.u.-')(a.)]\",\n",
       " \"[! E:A:.  (E:.wo.- E:S:.-d.u.-')(l.-y.-'E:U:.t.-l.-'E:U:.t.-l.-',)]\",\n",
       " \"[! E:A:.  (E:.wo.- E:S:.-d.u.-')(m.-B:.A:.-') > E:A:. E:A:. (E:.wo.- E:B:.-d.u.-')(p.E:A:T:.-)]\",\n",
       " \"[! E:U:.  (E:.A:.c.-)(f.a.-m.a.-')]\",\n",
       " \"[! E:U:.  (E:.U:.j.-)(n.i.-d.i.-t.u.-')]\",\n",
       " \"[! E:U:.  (E:U:S:.)(f.i.-b.i.-')]\",\n",
       " \"[! E:U:.  (E:.U:.c.-)(f.a.-m.a.-')]\",\n",
       " \"[! E:U:.  (E:A:T:. E:B:.-d.u.-')(m.-T:.U:.-')]\",\n",
       " '[! E:U:.  (E:A:T:.)(p.E:A:T:.-)]',\n",
       " \"[! E:U:.  (E:A:T:.)(t.o.-p.-')]\"]"
      ]
     },
     "execution_count": 5,
     "metadata": {},
     "output_type": "execute_result"
    }
   ],
   "source": [
    "# parse all words\n",
    "usls = db.list(parse=False, type='word')\n",
    "usls\n"
   ]
  },
  {
   "cell_type": "code",
   "execution_count": 6,
   "metadata": {},
   "outputs": [
    {
     "name": "stderr",
     "output_type": "stream",
     "text": [
      "100%|██████████| 103/103 [00:22<00:00,  4.69it/s]\n"
     ]
    }
   ],
   "source": [
    "from tqdm import tqdm\n",
    "\n",
    "\n",
    "for u in tqdm(usls):\n",
    "    get_word_structure(u)\n",
    "\n"
   ]
  },
  {
   "cell_type": "code",
   "execution_count": 19,
   "metadata": {},
   "outputs": [
    {
     "name": "stdout",
     "output_type": "stream",
     "text": [
      "b.-S:.A:.-'S:.-'S:.-',\n",
      "E:.wo.- E:S:.-d.u.-'\n",
      "k.a.-k.a.-'\n",
      "E:.wo.- E:S:.-d.u.-'\n"
     ]
    }
   ],
   "source": [
    "from itertools import chain\n",
    "\n",
    "def list_polymorpheme_of_word(w):\n",
    "    w = usl(w)\n",
    "    assert isinstance(w, Word)\n",
    "    \n",
    "    \n",
    "    # w.syntagmatic_fun correspond à l'arbre syntagmatic du mot w\n",
    "    # w.syntagmatic_fun.actors correspond à un dictionnaire qui associe tous les roles vers toutes les fonction syntagmatics presentent en descendance du noeud courant\n",
    "    # donc sfun correspond successivement à chacun des noeuds de l'arbre\n",
    "    # sfun.actor correspond au lexeme du noeud sfun\n",
    "    # sfun.actor.pm_flexion correspond au polymorpheme de flexion et \n",
    "    # sfun.actor.pm_content correspond au polymorpheme de contenu\n",
    "    return list(chain.from_iterable((sfun.actor.pm_content, sfun.actor.pm_flexion) \n",
    "                                    for sfun in w.syntagmatic_fun.actors.values()))\n",
    "    \n",
    "pl = list_polymorpheme_of_word(\"[! E:A:.  (E:.wo.- E:S:.-d.u.-')(b.-S:.A:.-'S:.-'S:.-',) > E:A:. E:A:. (E:.wo.- E:S:.-d.u.-')(k.a.-k.a.-')]\")\n",
    "\n",
    "for pm in pl:\n",
    "    print(pm)"
   ]
  },
  {
   "cell_type": "code",
   "execution_count": 8,
   "metadata": {},
   "outputs": [
    {
     "data": {
      "text/plain": [
       "[\"[! E:A:.  (E:.wo.- E:S:.-d.u.-')(b.-S:.A:.-'T:.-'T:.-',)]\",\n",
       " \"[! E:A:.  (E:U:A:. E:.wo.- E:S:.-d.u.-')(s.e.-k.u.-wa.e.-')]\",\n",
       " \"[! E:A:.  (E:.wo.- E:S:.-d.u.-')(b.-S:.A:.-'S:.-'S:.-',) > E:A:. E:A:. (E:.wo.- E:S:.-d.u.-')(k.a.-k.a.-')]\",\n",
       " \"[! E:A:.  (E:.wo.- E:S:.-d.u.-')(f.i.-b.i.-')]\",\n",
       " \"[! E:A:.  (E:.wo.- E:S:.-d.u.-')(a.)]\",\n",
       " \"[! E:A:.  (E:U:A:. E:.wo.- E:S:.-d.u.-')(f.u.-wu.f.U:.-')]\",\n",
       " \"[! E:A:.  (E:.wo.- E:S:.-d.u.-')(k.x.-) > E:A:. E:A:. (E:.wo.- E:S:.-d.u.-')(t.i.-s.i.-'u.B:.-U:.-'wa.-',)]\",\n",
       " \"[! E:A:.  (E:.wo.- E:S:.-d.u.-')(k.i.-l.i.-')]\",\n",
       " \"[! E:A:.  (E:.wo.- E:S:.-d.u.-')(m.-B:.A:.-') > E:A:. E:A:. (E:.wo.- E:B:.-d.u.-')(p.E:A:T:.-)]\",\n",
       " \"[! E:A:.  (E:.wo.- E:S:.-d.u.-')(wa.)]\",\n",
       " \"[! E:A:.  (E:.wo.- E:S:.-d.u.-')(m.-T:.U:.-') > E:A:. E:U:. (E:B:.-d.u.-')(p.E:A:T:.-)]\",\n",
       " \"[! E:A:.  (E:U:A:. E:.wo.- E:S:.-d.u.-')(f.u.-wu.f.S:.-')]\",\n",
       " \"[! E:A:.  (E:.wo.- E:S:.-d.u.-')(l.-y.-'E:U:.t.-l.-'E:U:.t.-l.-',)]\",\n",
       " \"[! E:A:.  (E:.wo.- E:S:.-d.u.-')(k.a.-) > E:A:. E:A:. (E:.wo.- E:S:.-d.u.-')(t.i.-s.i.-'u.B:.-U:.-'wa.-',)]\",\n",
       " \"[! E:A:.  (E:.wo.- E:S:.-d.u.-')(E:S:T:.)]\",\n",
       " \"[! E:A:.  (E:.wo.- E:S:.-d.u.-')(E:.A:.j.-)]\",\n",
       " \"[E:T:. (E:.b.wa.- E:.-wa.-t.o.-' E:.-'we.-S:.-'t.o.-',)(e.) > E:.n.- (E:.wo.- E:S:.-d.u.-') > E:.d.- (E:.wo.- E:S:.-d.u.-')(m.-S:.U:.-') > ! E:.n.- E:U:. ()]\",\n",
       " \"[E:T:. (E:.-wa.-t.o.-' E:.-'wu.-S:.-'t.o.-',)(a.T:.-) > ! E:.l.- (E:.wo.- E:S:.-d.u.-')]\",\n",
       " \"[! E:T:. (E:.-wa.-t.o.-' E:.-'we.-S:.-'t.o.-',)(t.e.-f.u.-')]\",\n",
       " \"[! E:T:. (E:.b.i.- E:.-wa.-t.o.-' E:.-'we.-S:.-'t.o.-',)(E:S:.h.-)]\",\n",
       " \"[! E:T:. (E:.-wa.-t.o.-' E:.-'we.-S:.-'t.o.-',)(b.-S:.A:.-')]\",\n",
       " \"[! E:T:. (E:.-wa.-t.o.-' E:.-'wu.-S:.-'t.o.-',)(i.) > E:.n.- (E:.wo.- E:S:.-d.u.-')(t.i.-s.i.-'u.T:.-U:.-'we.-',B:.-',_B:.-',_;) > E:.f.- (E:U:S:. E:.wo.- E:S:.-d.u.-')]\",\n",
       " \"[! E:T:. (E:.-wa.-t.o.-' E:.-'wu.-S:.-'t.o.-',)(a.B:.-) > E:.f.- (E:A:S:. E:.wo.- E:S:.-d.u.-')]\",\n",
       " \"[! E:T:. (E:.-wa.-t.o.-' E:.-'we.-S:.-'t.o.-',)(l.i.-n.i.-')]\",\n",
       " \"[! E:T:. (E:.-wa.-t.o.-' E:.-'wu.-S:.-'t.o.-',)(a.T:.-)]\",\n",
       " \"[! E:T:. (E:.-wo.-t.o.-' E:.-'we.-S:.-'t.o.-',)(t.)]\",\n",
       " \"[! E:T:. (E:.-wa.-t.o.-' E:.-'we.-S:.-'t.o.-',)(a.T:.-) > E:.f.- (E:.wo.- E:S:.-d.u.-')(E:T:.-t.u.-')]\",\n",
       " \"[! E:T:. (E:.-wa.-t.o.-' E:.-'we.-S:.-'t.o.-',)(s.a.-d.a.-')]\",\n",
       " \"[! E:T:. (E:.-wa.-t.o.-' E:.-'wu.-S:.-'t.o.-',)(i.S:.-)]\",\n",
       " \"[! E:T:. (E:.-wa.-t.o.-' E:.-'we.-S:.-'t.o.-',)(t.)]\",\n",
       " \"[! E:T:. (E:.-wa.-t.o.-' E:.-'wu.-S:.-'t.o.-',)(wu.f.B:.-) > E:.d.- (E:.wo.- E:S:.-d.u.-')(f.-S:.A:.-')]\",\n",
       " \"[! E:T:. (E:.-wa.-t.o.-' E:.-'we.-S:.-'t.o.-',)(b.-T:.A:.-')]\",\n",
       " \"[! E:T:. (E:.-wo.-t.o.-' E:.-'we.-S:.-'t.o.-',)(s.a.-d.a.-')]\",\n",
       " \"[! E:B:. (E:.-wa.-t.o.-' E:.-'wu.-S:.-'t.o.-',)(u.a.-) > E:.s.- (E:.wo.- E:T:.c.- E:S:.-d.u.-')(p.we.-)]\",\n",
       " \"[! E:B:. (E:.b.wa.- E:.-wa.-t.o.-' E:.-'wu.-S:.-'t.o.-',)(we.)]\",\n",
       " \"[! E:B:. (E:.-wa.-t.o.-' E:.-'wu.-S:.-'t.o.-',)(e.c.-) > E:.d.- (E:.wo.- E:S:.-d.u.-')(t.i.-s.i.-')]\",\n",
       " \"[! E:B:. (E:.b.i.- E:.-wa.-t.o.-' E:.-'wu.-S:.-'t.o.-',)(a.T:.-)]\",\n",
       " \"[! E:B:. (E:.b.wa.- E:.-wa.-t.o.-' E:.-'wu.-S:.-'t.o.-',)(we.) > E:.d.- (E:.wo.- E:S:.-d.u.-')(m.-T:.U:.-')]\",\n",
       " \"[E:S:. (E:.-wa.-t.o.-' E:.-'wu.-S:.-'t.o.-',)(u.A:.-) > E:.t.- (E:.wo.- E:S:.-d.u.-')(S:.E:A:T:.-) > ! E:.n.- (E:.wo.- E:S:.-d.u.-')(l.-T:.U:.-',n.-T:.A:.-',t.o.-f.o.-',_) > E:.f.- (E:.wo.- E:S:.-d.u.-')(n.i.-d.i.-t.u.-') > E:.l.- (E:.wo.- E:.-U:.d.-l.-' E:S:.-d.u.-')(n.-T:.U:.-')]\",\n",
       " \"[E:S:. (E:.-wa.-t.o.-' E:.-'wu.-S:.-'t.o.-',)(u.A:.-) > E:.t.- (E:.wo.- E:S:.-d.u.-')(p.E:S:B:.-) > ! E:.n.- (E:.wo.- E:S:.-d.u.-')(l.-T:.U:.-',n.-T:.A:.-',t.o.-f.o.-',_) > E:.f.- (E:.wo.- E:S:.-d.u.-')(n.i.-d.i.-t.u.-') > E:.l.- (E:.wo.- E:.-U:.d.-l.-' E:S:.-d.u.-')(n.-T:.U:.-')]\",\n",
       " \"[E:S:. (E:.-wa.-t.o.-' E:.-'wu.-S:.-'t.o.-',)(u.A:.-) > ! E:.n.- (E:.wo.- E:S:.-d.u.-')(l.-T:.U:.-',n.-T:.A:.-',t.o.-f.o.-',_) > E:.f.- (E:.wo.- E:S:.-d.u.-')(n.i.-d.i.-t.u.-') > E:.l.- (E:.wo.- E:.-U:.d.-l.-' E:S:.-d.u.-')(n.-T:.U:.-')]\",\n",
       " \"[E:S:. (E:.-wa.-t.o.-' E:.-'wu.-S:.-'t.o.-',)(u.S:.-) > ! E:.s.- (E:.wa.- E:S:.-d.u.-')(E:T:.x.-)]\",\n",
       " \"[E:S:. (E:.-wa.-t.o.-' E:.-'wu.-S:.-'t.o.-',)(u.A:.-) > E:.s.- (E:.wo.- E:T:.h.- E:S:.-d.u.-')(s.j.- d.-S:.U:.-') > ! E:.n.- (E:.wo.- E:S:.-d.u.-')(l.-T:.U:.-',n.-T:.A:.-',t.o.-f.o.-',_) > E:.f.- (E:.wo.- E:S:.-d.u.-')(n.i.-d.i.-t.u.-') > E:.l.- (E:.wo.- E:.-U:.d.-l.-' E:S:.-d.u.-')(n.-T:.U:.-')]\",\n",
       " \"[E:S:. (E:.-wa.-t.o.-' E:.-'wu.-S:.-'t.o.-',)(u.A:.-) > E:.t.- (E:.wo.- E:S:.-d.u.-')(S:.E:A:S:.-) > ! E:.n.- (E:.wo.- E:S:.-d.u.-')(l.-T:.U:.-',n.-T:.A:.-',t.o.-f.o.-',_) > E:.f.- (E:.wo.- E:S:.-d.u.-')(n.i.-d.i.-t.u.-') > E:.l.- (E:.wo.- E:.-U:.d.-l.-' E:S:.-d.u.-')(n.-T:.U:.-')]\",\n",
       " \"[! E:U:.  (E:.U:.c.-)(f.a.-m.a.-')]\",\n",
       " \"[! E:U:.  (E:A:T:. E:B:.-d.u.-')(m.-T:.U:.-')]\",\n",
       " \"[! E:U:.  (E:.U:.j.-)(n.i.-d.i.-t.u.-')]\",\n",
       " \"[! E:U:.  (E:A:T:.)(t.o.-p.-')]\",\n",
       " \"[! E:U:.  (E:U:S:.)(f.i.-b.i.-')]\",\n",
       " '[! E:U:.  (E:A:T:.)(p.E:A:T:.-)]',\n",
       " \"[! E:U:.  (E:.A:.c.-)(f.a.-m.a.-')]\",\n",
       " \"[! E:S:. (E:.-wa.-t.o.-' E:S:.-t.o.-' E:.-'wu.-S:.-'t.o.-',)(u.A:.-) > E:.s.- (E:.wo.- E:T:.x.- E:S:.-d.u.-')(b.i.-n.i.-'l.i.-f.i.-'n.-B:.U:.-',) > E:.f.- (E:.wo.- E:S:.-d.u.-')(l.o.-m.o.-s.u.-') > E:.l.- (E:.wo.- E:.-U:.d.-l.-' E:S:.-d.u.-')(l.-y.-'E:U:.n.-l.-'E:U:.s.-l.-',)]\",\n",
       " \"[! E:S:. (E:.-wa.-t.o.-' E:.-'wu.-S:.-'t.o.-',)(u.A:.-) > E:.f.- (E:.wo.- E:S:.-d.u.-')(l.o.-m.o.-s.u.-') > E:.l.- (E:.wo.- E:.-U:.s.-l.-' E:S:.-d.u.-')(n.-T:.U:.-')]\",\n",
       " \"[! E:S:. (E:.-wa.-t.o.-' E:.-'wu.-S:.-'t.o.-',)(wa.) > E:.n.- (E:.wo.- E:S:.-d.u.-')(n.i.-s.i.-') > E:.f.- (E:U:S:. E:.wo.- E:S:.-d.u.-')]\",\n",
       " \"[! E:S:. (E:.b.we.- E:.-wa.-t.o.-' E:S:.-t.o.-' E:.-'wu.-S:.-'t.o.-',)(n.u.-s.u.-')]\",\n",
       " \"[! E:S:. (E:.-wa.-t.o.-' E:S:.-t.o.-' E:.-'wu.-S:.-'t.o.-',)(u.A:.-) > E:.s.- (E:.wo.- E:T:.x.- E:S:.-d.u.-')(n.i.-f.i.-') > E:.f.- (E:.U:.j.- E:.wo.- E:S:.-d.u.-')(l.o.-m.o.-s.u.-') > E:.l.- (E:.wo.- E:.-U:.d.-l.-' E:S:.-d.u.-')(n.-T:.A:.-')]\",\n",
       " \"[! E:S:. (E:.-wa.-t.o.-' E:.-'we.-S:.-'t.o.-',)(b.-S:.A:.-')]\",\n",
       " \"[! E:S:. (E:.-wa.-t.o.-' E:S:.-t.o.-' E:.-'wu.-S:.-'t.o.-',)(u.A:.-) > E:.s.- (E:.wo.- E:T:.x.- E:S:.-d.u.-')(n.i.-f.i.-') > E:.f.- (E:.wo.- E:S:.-d.u.-')(l.o.-m.o.-s.u.-') > E:.l.- (E:.wo.- E:.-U:.d.-l.-' E:S:.-d.u.-')(n.-T:.U:.-')]\",\n",
       " \"[! E:S:. (E:.-wa.-t.o.-' E:.-'wu.-S:.-'t.o.-',)(i.S:.-)]\",\n",
       " \"[! E:S:. (E:.-wa.-t.o.-' E:.-'wu.-S:.-'t.o.-',)(wa.wo.t.-) > E:.s.- (E:.wo.- E:T:.c.- E:S:.-d.u.-')(s.c.we.-)]\",\n",
       " \"[! E:S:. (E:.-wa.-t.o.-' E:.-'we.-S:.-'t.o.-',)(b.-T:.A:.-')]\",\n",
       " \"[! E:S:. (E:.-wa.-t.o.-' E:B:.-t.o.-' E:.-'wu.-S:.-'t.o.-',)(A:.a.-) > E:.d.- (E:.wo.- E:S:.-d.u.-')(l.j.-)]\",\n",
       " \"[! E:S:. (E:.b.wa.- E:.-wa.-t.o.-' E:.-'wu.-S:.-'t.o.-',)(m.-T:.A:.-'m.-S:.U:.-'E:A:T:.-',)]\",\n",
       " \"[! E:S:. (E:.-wa.-t.o.-' E:.-'we.-S:.-'t.o.-',)(s.c.-)]\",\n",
       " \"[! E:S:. (E:.-wa.-t.o.-' E:.-'wu.-S:.-'t.o.-',)(u.A:.-) > E:.l.- (E:.wo.- E:.-A:.d.-l.-' E:S:.-d.u.-')]\",\n",
       " \"[! E:S:. (E:.-wa.-t.o.-' E:.-'wu.-B:.-'t.o.-',)(a.u.-)]\",\n",
       " \"[! E:S:. (E:.-wa.-t.o.-' E:.-'wu.-S:.-'t.o.-',)(u.A:.-) > E:.s.- (E:.wo.- E:T:.x.- E:S:.-d.u.-')(B:.B:.n.-k.-u.T:.-') > E:.f.- (E:.wo.- E:S:.-d.u.-')(i.c.-) > E:.l.- (E:.wo.- E:.-U:.s.-l.-' E:S:.-d.u.-')(l.-y.-'E:U:.n.-l.-'E:U:.s.-l.-',)]\",\n",
       " \"[! E:S:. (E:.-wa.-t.o.-' E:.-'we.-S:.-'t.o.-',)(s.we.-)]\",\n",
       " \"[! E:S:. (E:.-wa.-t.o.-' E:T:.-t.o.-' E:.-'wu.-S:.-'t.o.-',)(u.A:.-) > E:.s.- (E:.wo.- E:T:.x.- E:S:.-d.u.-')(t.i.-s.i.-'u.S:.-U:.-'wa.-',) > E:.f.- (E:.U:.j.- E:.wo.- E:S:.-d.u.-')(l.o.-m.o.-s.u.-') > E:.l.- (E:.wo.- E:.-U:.d.-l.-' E:S:.-d.u.-')(n.-T:.U:.-')]\",\n",
       " \"[! E:S:. (E:.-wa.-t.o.-' E:.-'wu.-S:.-'t.o.-',)(u.A:.-) > E:.l.- (E:.wo.- E:.-U:.s.-l.-' E:S:.-d.u.-')]\",\n",
       " \"[! E:S:. (E:.-wa.-t.o.-' E:.-'wu.-S:.-'t.o.-',)(we.) > E:.f.- (E:.U:.j.- E:.wo.- E:S:.-d.u.-')]\",\n",
       " \"[! E:S:. (E:.b.wa.- E:.-wa.-t.o.-' E:T:.-t.o.-' E:.-'wu.-S:.-'t.o.-',)(m.-B:.A:.-')]\",\n",
       " \"[! E:S:. (E:.-wa.-t.o.-' E:.-'we.-S:.-'t.o.-',)(l.-T:.U:.-',n.-T:.A:.-',t.o.-f.o.-',_)]\",\n",
       " \"[! E:S:. (E:.-wa.-t.o.-' E:.-'wu.-S:.-'t.o.-',)(u.A:.-) > E:.l.- (E:.wo.- E:.-A:.s.-l.-' E:S:.-d.u.-')]\",\n",
       " \"[! E:S:. (E:.-wa.-t.o.-' E:.-'wu.-S:.-'t.o.-',)(u.A:.-) > E:.l.- (E:.wo.- E:.-U:.d.-l.-' E:S:.-d.u.-')]\",\n",
       " \"[! E:S:. (E:.-wa.-t.o.-' E:.-'we.-S:.-'t.o.-',)(b.-S:.A:.-'T:.-'T:.-',)]\",\n",
       " \"[! E:S:. (E:.-wa.-t.o.-' E:.-'wu.-S:.-'t.o.-',)(wo.) > E:.l.- (E:.wo.- E:.-B:.k.-l.-' E:S:.-d.u.-') > E:.l.- E:A:. (E:.wo.- E:S:.-d.u.-')(m.-T:.A:.-'m.-S:.U:.-'E:A:T:.-',)]\",\n",
       " \"[! E:S:. (E:S:U:. E:.b.wa.- E:.-wa.-t.o.-' E:.-'wu.-S:.-'t.o.-',)(s.)]\",\n",
       " \"[! E:S:. (E:.-wa.-t.o.-' E:.-'wu.-S:.-'t.o.-',)(wo.) > E:.n.- (E:.wo.- E:S:.-d.u.-')(f.i.-k.i.-') > E:.f.- (E:U:S:. E:.wo.- E:S:.-d.u.-')]\",\n",
       " \"[! E:S:. (E:.-wa.-t.o.-' E:S:.-t.o.-' E:.-'wu.-S:.-'t.o.-',)(u.A:.-) > E:.s.- (E:.wo.- E:T:.x.- E:S:.-d.u.-')(t.i.-s.i.-'u.S:.-U:.-'wa.-',) > E:.f.- (E:.U:.j.- E:.wo.- E:S:.-d.u.-')(l.o.-m.o.-s.u.-') > E:.l.- (E:.wo.- E:.-U:.s.-l.-' E:S:.-d.u.-')(n.-T:.U:.-')]\",\n",
       " \"[! E:S:. (E:.-wa.-t.o.-' E:.-'wu.-S:.-'t.o.-',)(wa.) > E:.n.- (E:.wo.- E:S:.-d.u.-')(n.i.-s.i.-') > E:.f.- (E:.wo.- E:S:.-d.u.-' E:T:.-t.u.-')]\",\n",
       " \"[! E:S:. (E:.-wa.-t.o.-' E:.-'wu.-S:.-'t.o.-',)(u.A:.-) > E:.s.- (E:.wo.- E:T:.x.- E:S:.-d.u.-')(n.i.-f.i.-') > E:.f.- (E:.wo.- E:S:.-d.u.-')(i.c.-) > E:.l.- (E:.wo.- E:.-U:.s.-l.-' E:S:.-d.u.-')(l.-y.-'E:U:.n.-l.-'E:U:.s.-l.-',)]\",\n",
       " \"[! E:S:. (E:.-wa.-t.o.-' E:S:.-t.o.-' E:.-'wu.-S:.-'t.o.-',)(e.U:.-)]\",\n",
       " \"[! E:S:. (E:.-wa.-t.o.-' E:T:.-t.o.-' E:.-'wu.-S:.-'t.o.-',)(A:.a.-) > E:.d.- (E:.wo.- E:S:.-d.u.-')(l.j.-)]\",\n",
       " \"[! E:S:. (E:.-wa.-t.o.-' E:B:.-t.o.-' E:.-'wu.-S:.-'t.o.-',)(e.U:.-)]\",\n",
       " \"[! E:S:. (E:.b.wa.- E:.-wa.-t.o.-' E:.-'wu.-S:.-'t.o.-',)(f.o.-d.o.-')]\",\n",
       " \"[! E:S:. (E:.-wa.-t.o.-' E:S:.-t.o.-' E:.-'wu.-S:.-'t.o.-',)(u.A:.-) > E:.s.- (E:.wo.- E:T:.x.- E:S:.-d.u.-')(n.i.-f.i.-') > E:.f.- (E:.wo.- E:S:.-d.u.-')(n.i.-d.i.-t.u.-') > E:.l.- (E:.wo.- E:.-U:.d.-l.-' E:S:.-d.u.-')(n.-T:.U:.-')]\",\n",
       " \"[! E:S:. (E:.-wa.-t.o.-' E:T:.-t.o.-' E:.-'wu.-S:.-'t.o.-',)(e.U:.-)]\",\n",
       " \"[! E:S:. (E:.-wa.-t.o.-' E:S:.-t.o.-' E:.-'wu.-S:.-'t.o.-',)(u.A:.-) > E:.s.- (E:.wo.- E:T:.x.- E:S:.-d.u.-')(n.i.-f.i.-') > E:.f.- (E:.wo.- E:S:.-d.u.-')(l.o.-m.o.-s.u.-') > E:.l.- (E:.wo.- E:.-U:.d.-l.-' E:S:.-d.u.-')(n.-T:.A:.-')]\",\n",
       " \"[! E:S:. (E:.-wa.-t.o.-' E:.-'wu.-S:.-'t.o.-',)(m.a.-f.a.-')]\",\n",
       " \"[! E:S:. (E:.-wa.-t.o.-' E:.-'we.-S:.-'t.o.-',)(E:S:.h.-)]\",\n",
       " \"[! E:S:. (E:.b.o.- E:.-wa.-t.o.-' E:.-'wu.-S:.-'t.o.-',)(wa.we.t.-) > E:.s.- (E:.wo.- E:T:.c.- E:S:.-d.u.-')(m.u.-)]\",\n",
       " \"[E:B:. (E:.-wa.-t.o.-' E:.-'we.-S:.-'t.o.-',)(i.k.-) > ! E:.n.- (E:.wo.- E:.-n.S:.-' E:S:.-d.u.-')(t.a.-b.a.-f.o.-')]\",\n",
       " \"[E:B:. (E:.-wa.-t.o.-' E:.-'wu.-S:.-'t.o.-',)(e.) > ! E:.n.- (E:.wo.- E:S:.-d.u.-') > E:.d.- (E:.wo.- E:S:.-d.u.-')(m.-S:.U:.-')]\",\n",
       " \"[E:B:. (E:.-wa.-t.o.-' E:.-'we.-S:.-'t.o.-',)(i.k.-) > ! E:.k.- (E:.wo.- E:.-n.S:.-' E:S:.-d.u.-')]\",\n",
       " \"[E:B:. (E:.-wa.-t.o.-' E:.-'we.-S:.-'t.o.-',)(i.k.-) > ! E:.n.- (E:.wo.- E:.-n.S:.-' E:S:.-d.u.-')]\",\n",
       " \"[E:B:. (E:.-wa.-t.o.-' E:.-'we.-S:.-'t.o.-',)(i.k.-) > ! E:.d.- (E:.wo.- E:S:.-d.u.-')]\",\n",
       " \"[E:B:. (E:.-wa.-t.o.-' E:.-'we.-S:.-'t.o.-',)(i.k.-) > ! E:.d.- (E:.wo.- E:.-n.E:U:.-' E:S:.-d.u.-')(t.e.-n.u.-')]\",\n",
       " \"[E:B:. (E:.-wa.-t.o.-' E:.-'we.-S:.-'t.o.-',)(e.i.-) > ! E:.n.- (E:.wo.- E:S:.-d.u.-')]\",\n",
       " \"[E:B:. (E:.-wa.-t.o.-' E:.-'we.-S:.-'t.o.-',)(i.k.-) > E:.k.- (E:.wo.- E:.-n.S:.-' E:S:.-d.u.-')(b.a.-b.a.-f.o.-') > E:.n.- (E:.wo.- E:.-n.S:.-' E:S:.-d.u.-')(t.a.-b.a.-f.o.-') > ! E:.d.- (E:.wo.- E:.-n.E:U:.-' E:S:.-d.u.-')(t.e.-n.u.-')]\",\n",
       " \"[E:B:. (E:.-wa.-t.o.-' E:.-'we.-S:.-'t.o.-',)(i.k.-) > ! E:.k.- (E:.wo.- E:.-n.S:.-' E:S:.-d.u.-')(b.a.-b.a.-f.o.-')]\",\n",
       " \"[E:B:. (E:.-wa.-t.o.-' E:.-'we.-S:.-'t.o.-',)(e.i.-) > ! E:.k.- (E:.wo.- E:S:.-d.u.-')]\",\n",
       " \"[E:A:.  (E:.wo.- E:.-n.S:.-' E:S:.-d.u.-')(b.a.- b.o.-n.o.-s.u.-' f.a.-b.a.-f.o.-') > ! E:A:. E:U:. () > E:A:. E:A:. (E:.wo.- E:S:.-d.u.-')(n.-S:.U:.-'B:.-'B:.-',B:.-',B:.-',_ n.-S:.U:.-'B:.-'B:.-',T:.-',S:.-',_)]\"]"
      ]
     },
     "execution_count": 8,
     "metadata": {},
     "output_type": "execute_result"
    }
   ],
   "source": [
    "# parse all words\n",
    "usls = db.list(parse=False, type='word')\n",
    "usls"
   ]
  },
  {
   "cell_type": "code",
   "execution_count": 3,
   "metadata": {},
   "outputs": [
    {
     "data": {
      "text/plain": [
       "True"
      ]
     },
     "execution_count": 3,
     "metadata": {},
     "output_type": "execute_result"
    }
   ],
   "source": [
    "from ieml.usl import USL\n",
    "from ieml.dictionary.script import Script\n",
    "\n",
    "# the database contains the morphemes and the usls made from morphemes\n",
    "all(isinstance(u, (USL, Script)) for u in usls) "
   ]
  },
  {
   "cell_type": "code",
   "execution_count": 35,
   "metadata": {},
   "outputs": [],
   "source": [
    "descriptorsDB = db.get_descriptors()\n",
    "def display_usls(u):\n",
    "    descriptor = descriptorsDB.get_values_partial(u)\n",
    "    # descriptor is a dict :\n",
    "    # { (ieml, descriptor_type, lang) : string[]}\n",
    "    # descriptor_type in ieml.constants.DESCRIPTORS_CLASS = ['translations', 'comments', 'tags']\n",
    "    # lang in ieml.constants.LANGUAGES = [ 'fr', 'en' ]  \n",
    "    \n",
    "    return str(u) +\\\n",
    "        \"\".join(\"\\n\\t{}: {}\".format(k, str(v)) for k, v in {\n",
    "            **{'{}_{}'.format(descriptor_type, lang): ', '.join(t) \n",
    "               for (_, descriptor_type, lang), t in descriptor.items()},\n",
    "            'type': u.__class__.__name__,\n",
    "            'is_paradigm': not u.is_singular,\n",
    "            \n",
    "        }.items())"
   ]
  },
  {
   "cell_type": "code",
   "execution_count": 36,
   "metadata": {},
   "outputs": [
    {
     "name": "stdout",
     "output_type": "stream",
     "text": [
      "O:O:.\n",
      "\ten_comments: In order to understand O x O we have to think about the basic sensorimotor cycle. Let's begin with the inner sanctum of personal existence that does not manifest externally: to exist. Then, from this virtual place, we act. As a result, our actual environment is transformed and a new reality appears or happens. Finally, from the actuality of external happening, we perceive back to our inner existence. Note the two intertwined oppositions : \\n\\n• wa act (in –> out) / wu perceive (out –> in) \\n\\n• wo exist (in –> in) / we appear (out –> out)\\n\\nwo wa wu we can be used to model any quaternary semantic symmetry. They can also be used to « verbify » nominal semes when creating new words.\n",
      "\ten_translations: interaction phases, tetrad\n",
      "\tfr_translations: phases de l'interaction, tétrade\n",
      "\ttype: MultiplicativeScript\n",
      "\tis_paradigm: True\n"
     ]
    }
   ],
   "source": [
    "from ieml.usl.usl import usl\n",
    "\n",
    "# usl() parse the string and return an Usl or a Script (if a morpheme)\n",
    "oo_script = usl('O:O:.')\n",
    "assert isinstance(oo_script, Script)\n",
    "\n",
    "print(display_usls(usl('O:O:.')))"
   ]
  },
  {
   "cell_type": "code",
   "execution_count": null,
   "metadata": {},
   "outputs": [],
   "source": []
  }
 ],
 "metadata": {
  "kernelspec": {
   "display_name": "Python 3",
   "language": "python",
   "name": "python3"
  },
  "language_info": {
   "codemirror_mode": {
    "name": "ipython",
    "version": 3
   },
   "file_extension": ".py",
   "mimetype": "text/x-python",
   "name": "python",
   "nbconvert_exporter": "python",
   "pygments_lexer": "ipython3",
   "version": "3.7.3"
  }
 },
 "nbformat": 4,
 "nbformat_minor": 1
}
